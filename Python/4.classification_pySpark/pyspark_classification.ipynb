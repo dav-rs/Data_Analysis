{
 "cells": [
  {
   "cell_type": "markdown",
   "metadata": {},
   "source": [
    "## Data preparation and exploration\n",
    "### Creating Spark Session\n",
    "1. Create a SparkConf object for using as many local cores as possible, for a proper application name, and for changing the max partition byte configuration to enable a minimum of 2 partitions when reading each file in Spark SQL (so each dataframe should have at least 4 partitions when reading from the given datafiles).\n",
    "2. Then create a SparkSession using the SparkConf object."
   ]
  },
  {
   "cell_type": "code",
   "execution_count": 1,
   "metadata": {
    "ExecuteTime": {
     "end_time": "2020-10-03T01:06:31.979310Z",
     "start_time": "2020-10-03T01:06:23.397583Z"
    }
   },
   "outputs": [],
   "source": [
    "# Import libraries needed from pyspark\n",
    "from pyspark import SparkConf\n",
    "from pyspark.sql import SparkSession\n",
    "\n",
    "# Create Spark Configuration Object\n",
    "master = \"local[*]\"\n",
    "# The `appName` field is a name to be shown on the Spark cluster UI page\n",
    "app_name = \"Spark Assignment 2A\"\n",
    "# Setup configuration parameters for Spark\n",
    "spark_conf = SparkConf().setMaster(master).setAppName(app_name).set(\"spark.files.maxPartitionBytes\",17000000).set(\"spark.sql.files.maxPartitionBytes\",17000000)\n",
    "\n",
    "# Create SparkSession\n",
    "spark = SparkSession.builder.config(conf=spark_conf).getOrCreate()\n",
    "sc = spark.sparkContext\n",
    "sc.setLogLevel('ERROR')"
   ]
  },
  {
   "cell_type": "markdown",
   "metadata": {},
   "source": [
    "### Loading the data\n",
    "1. Load each activity data into a Spark dataframe and cache the data. Then print out the row count of each dataframe.\n",
    "    \n",
    "*In the cell below we can see the load process for the memory process files. However, the file 2 was not complying with the schema, for this reason I used `inferSchema` so that the problematic fields can be loaded as `StringType`.*"
   ]
  },
  {
   "cell_type": "code",
   "execution_count": 2,
   "metadata": {
    "ExecuteTime": {
     "end_time": "2020-10-03T01:06:42.874494Z",
     "start_time": "2020-10-03T01:06:31.983661Z"
    }
   },
   "outputs": [],
   "source": [
    "from pyspark.sql.types import *\n",
    "\n",
    "# Specify schema memory\n",
    "schema_mem = StructType([\n",
    "    StructField('ts', IntegerType(), True),\n",
    "    StructField('PID', IntegerType(), True),\n",
    "    StructField('MINFLT', IntegerType(), True),\n",
    "    StructField('MAJFLT', IntegerType(), True),\n",
    "    StructField('VSTEXT', IntegerType(), True),\n",
    "    StructField('VSIZE', DoubleType(), True),\n",
    "    StructField('RSIZE', DoubleType(), True),\n",
    "    StructField('VGROW', DoubleType(), True),\n",
    "    StructField('RGROW', DoubleType(), True),\n",
    "    StructField('MEM', DoubleType(), True),\n",
    "    StructField('CMD', StringType(), True),\n",
    "    StructField('attack', IntegerType(), True),\n",
    "    StructField('type', StringType(), True)\n",
    "])\n",
    "\n",
    "#Load the CSV File\n",
    "mem1_df = spark.read.format('csv')\\\n",
    "            .schema(schema_mem).option('header',True).load('linux_memory_1.csv')\n",
    "mem2_df = spark.read.format('csv')\\\n",
    "            .option('header',True).option('inferSchema',True).load('linux_memory_2.csv')"
   ]
  },
  {
   "cell_type": "markdown",
   "metadata": {},
   "source": [
    "Now we will follow the same process with the process activity files."
   ]
  },
  {
   "cell_type": "code",
   "execution_count": 3,
   "metadata": {
    "ExecuteTime": {
     "end_time": "2020-10-03T01:06:43.111880Z",
     "start_time": "2020-10-03T01:06:42.881137Z"
    }
   },
   "outputs": [],
   "source": [
    "schema_proc = StructType([\n",
    "    StructField('ts', IntegerType(), True),\n",
    "    StructField('PID', IntegerType(), True),\n",
    "    StructField('TRUN', IntegerType(), True),\n",
    "    StructField('TSLPI', IntegerType(), True),\n",
    "    StructField('TSLPU', IntegerType(), True),\n",
    "    StructField('POLI', StringType(), True),\n",
    "    StructField('NICE', IntegerType(), True),\n",
    "    StructField('PRI', IntegerType(), True),\n",
    "    StructField('RTPR', IntegerType(), True),\n",
    "    StructField('CPUNR', IntegerType(), True),\n",
    "    StructField('Status', StringType(), True),\n",
    "    StructField('EXC', IntegerType(), True),\n",
    "    StructField('State', StringType(), True),\n",
    "    StructField('CPU', DoubleType(), True),\n",
    "    StructField('CMD', StringType(), True),\n",
    "    StructField('attack', IntegerType(), True),\n",
    "    StructField('type', StringType(), True)\n",
    "])\n",
    "\n",
    "proc1_df = spark.read.format('csv')\\\n",
    "            .schema(schema_proc).option('header',True).load('linux_process_1.csv')\n",
    "proc2_df = spark.read.format('csv')\\\n",
    "            .schema(schema_proc).option('header',True).load('linux_process_2.csv')\n",
    "\n",
    "df_list = [mem1_df, mem2_df, proc1_df, proc2_df]\n",
    "for df in df_list:\n",
    "    df.cache()"
   ]
  },
  {
   "cell_type": "code",
   "execution_count": 4,
   "metadata": {
    "ExecuteTime": {
     "end_time": "2020-10-03T01:06:43.135756Z",
     "start_time": "2020-10-03T01:06:43.117454Z"
    }
   },
   "outputs": [
    {
     "data": {
      "text/plain": [
       "StorageLevel(True, True, False, True, 1)"
      ]
     },
     "execution_count": 4,
     "metadata": {},
     "output_type": "execute_result"
    }
   ],
   "source": [
    "# Checking that the dataframe has been cached\n",
    "mem1_df.storageLevel"
   ]
  },
  {
   "cell_type": "code",
   "execution_count": 5,
   "metadata": {
    "ExecuteTime": {
     "end_time": "2020-10-03T01:06:43.432603Z",
     "start_time": "2020-10-03T01:06:43.139814Z"
    }
   },
   "outputs": [
    {
     "name": "stdout",
     "output_type": "stream",
     "text": [
      "4\n",
      "4\n",
      "4\n",
      "4\n"
     ]
    }
   ],
   "source": [
    "# Checking the partitions of each dataframe\n",
    "for df in df_list:\n",
    "    print(df.rdd.getNumPartitions())"
   ]
  },
  {
   "cell_type": "code",
   "execution_count": 6,
   "metadata": {
    "ExecuteTime": {
     "end_time": "2020-10-03T01:07:06.588862Z",
     "start_time": "2020-10-03T01:06:43.438538Z"
    }
   },
   "outputs": [
    {
     "name": "stdout",
     "output_type": "stream",
     "text": [
      "Row count: 1000000 Column count: 13\n",
      "Row count: 1000000 Column count: 13\n",
      "Row count: 1000000 Column count: 17\n",
      "Row count: 927968 Column count: 17\n"
     ]
    }
   ],
   "source": [
    "for df in df_list:\n",
    "    print(\"Row count:\",df.count(),\"Column count:\", len(df.columns))"
   ]
  },
  {
   "cell_type": "code",
   "execution_count": 7,
   "metadata": {
    "ExecuteTime": {
     "end_time": "2020-10-03T01:07:07.425781Z",
     "start_time": "2020-10-03T01:07:06.591429Z"
    }
   },
   "outputs": [
    {
     "name": "stdout",
     "output_type": "stream",
     "text": [
      "+----------+----+------+------+------+-----+-----+-----+-----+----+-----------+------+------+\n",
      "|        ts| PID|MINFLT|MAJFLT|VSTEXT|VSIZE|RSIZE|VGROW|RGROW| MEM|        CMD|attack|  type|\n",
      "+----------+----+------+------+------+-----+-----+-----+-----+----+-----------+------+------+\n",
      "|1554218915|3257|859502|    54|   193|  2.0|519.1|  2.0|519.1|0.14|Web-Content|     0|normal|\n",
      "|1554218920|3197|247354|    95|   193|  2.6|402.0|  2.6|402.0|0.11|    firefox|     0|normal|\n",
      "|1554218925|1442| 57311|    33|  2219|764.2|290.7|764.2|290.7|0.08|       Xorg|     0|normal|\n",
      "+----------+----+------+------+------+-----+-----+-----+-----+----+-----------+------+------+\n",
      "only showing top 3 rows\n",
      "\n",
      "+----------+----+----+-----+-----+----+----+---+----+-----+------+---+-----+----+-----------+------+------+\n",
      "|        ts| PID|TRUN|TSLPI|TSLPU|POLI|NICE|PRI|RTPR|CPUNR|Status|EXC|State| CPU|        CMD|attack|  type|\n",
      "+----------+----+----+-----+-----+----+----+---+----+-----+------+---+-----+----+-----------+------+------+\n",
      "|1554218915|3257|   0|   23|    0|norm|   0|120|   0|    2|     N|  0|    S|0.13|Web-Content|     0|normal|\n",
      "|1554218920|1442|   0|    1|    0|norm|   0|120|   0|    0|     N|  0|    S|0.09|       Xorg|     0|normal|\n",
      "|1554218925|3197|   0|   63|    0|norm|   0|120|   0|    3|     N|  0|    S|0.06|    firefox|     0|normal|\n",
      "+----------+----+----+-----+-----+----+----+---+----+-----+------+---+-----+----+-----------+------+------+\n",
      "only showing top 3 rows\n",
      "\n"
     ]
    }
   ],
   "source": [
    "# Inspecting the dataframes\n",
    "mem1_df.show(3)\n",
    "proc1_df.show(3)"
   ]
  },
  {
   "cell_type": "code",
   "execution_count": 8,
   "metadata": {
    "ExecuteTime": {
     "end_time": "2020-10-03T01:07:07.450952Z",
     "start_time": "2020-10-03T01:07:07.428512Z"
    }
   },
   "outputs": [
    {
     "name": "stdout",
     "output_type": "stream",
     "text": [
      "root\n",
      " |-- ts: integer (nullable = true)\n",
      " |-- PID: integer (nullable = true)\n",
      " |-- MINFLT: integer (nullable = true)\n",
      " |-- MAJFLT: integer (nullable = true)\n",
      " |-- VSTEXT: integer (nullable = true)\n",
      " |-- VSIZE: double (nullable = true)\n",
      " |-- RSIZE: double (nullable = true)\n",
      " |-- VGROW: double (nullable = true)\n",
      " |-- RGROW: double (nullable = true)\n",
      " |-- MEM: double (nullable = true)\n",
      " |-- CMD: string (nullable = true)\n",
      " |-- attack: integer (nullable = true)\n",
      " |-- type: string (nullable = true)\n",
      "\n",
      "root\n",
      " |-- ts: integer (nullable = true)\n",
      " |-- PID: integer (nullable = true)\n",
      " |-- MINFLT: string (nullable = true)\n",
      " |-- MAJFLT: string (nullable = true)\n",
      " |-- VSTEXT: string (nullable = true)\n",
      " |-- VSIZE: double (nullable = true)\n",
      " |-- RSIZE: string (nullable = true)\n",
      " |-- VGROW: string (nullable = true)\n",
      " |-- RGROW: string (nullable = true)\n",
      " |-- MEM: double (nullable = true)\n",
      " |-- CMD: string (nullable = true)\n",
      " |-- attack: integer (nullable = true)\n",
      " |-- type: string (nullable = true)\n",
      "\n",
      "root\n",
      " |-- ts: integer (nullable = true)\n",
      " |-- PID: integer (nullable = true)\n",
      " |-- TRUN: integer (nullable = true)\n",
      " |-- TSLPI: integer (nullable = true)\n",
      " |-- TSLPU: integer (nullable = true)\n",
      " |-- POLI: string (nullable = true)\n",
      " |-- NICE: integer (nullable = true)\n",
      " |-- PRI: integer (nullable = true)\n",
      " |-- RTPR: integer (nullable = true)\n",
      " |-- CPUNR: integer (nullable = true)\n",
      " |-- Status: string (nullable = true)\n",
      " |-- EXC: integer (nullable = true)\n",
      " |-- State: string (nullable = true)\n",
      " |-- CPU: double (nullable = true)\n",
      " |-- CMD: string (nullable = true)\n",
      " |-- attack: integer (nullable = true)\n",
      " |-- type: string (nullable = true)\n",
      "\n",
      "root\n",
      " |-- ts: integer (nullable = true)\n",
      " |-- PID: integer (nullable = true)\n",
      " |-- TRUN: integer (nullable = true)\n",
      " |-- TSLPI: integer (nullable = true)\n",
      " |-- TSLPU: integer (nullable = true)\n",
      " |-- POLI: string (nullable = true)\n",
      " |-- NICE: integer (nullable = true)\n",
      " |-- PRI: integer (nullable = true)\n",
      " |-- RTPR: integer (nullable = true)\n",
      " |-- CPUNR: integer (nullable = true)\n",
      " |-- Status: string (nullable = true)\n",
      " |-- EXC: integer (nullable = true)\n",
      " |-- State: string (nullable = true)\n",
      " |-- CPU: double (nullable = true)\n",
      " |-- CMD: string (nullable = true)\n",
      " |-- attack: integer (nullable = true)\n",
      " |-- type: string (nullable = true)\n",
      "\n"
     ]
    }
   ],
   "source": [
    "# Check schemas\n",
    "for df in df_list:\n",
    "    df.printSchema()"
   ]
  },
  {
   "cell_type": "markdown",
   "metadata": {},
   "source": [
    "The schemas printed above show that only for memory2 dataset the datatypes are not according to the metadata, therefore this will be modified in the next section"
   ]
  },
  {
   "cell_type": "markdown",
   "metadata": {},
   "source": [
    "2. For each column in each dataframe above,\n",
    "    * Check the null data (if any) and print out the corresponding count in each column"
   ]
  },
  {
   "cell_type": "code",
   "execution_count": 9,
   "metadata": {
    "ExecuteTime": {
     "end_time": "2020-10-03T01:07:40.574774Z",
     "start_time": "2020-10-03T01:07:07.454268Z"
    }
   },
   "outputs": [
    {
     "name": "stdout",
     "output_type": "stream",
     "text": [
      "+---+---+------+------+------+-----+-----+-----+-----+---+---+------+----+\n",
      "| ts|PID|MINFLT|MAJFLT|VSTEXT|VSIZE|RSIZE|VGROW|RGROW|MEM|CMD|attack|type|\n",
      "+---+---+------+------+------+-----+-----+-----+-----+---+---+------+----+\n",
      "|  0|  0|     0|     0|     0|    0|    0|    0|    0|  0|  0|     0|   0|\n",
      "+---+---+------+------+------+-----+-----+-----+-----+---+---+------+----+\n",
      "\n",
      "+---+---+------+------+------+-----+-----+-----+-----+---+---+------+----+\n",
      "| ts|PID|MINFLT|MAJFLT|VSTEXT|VSIZE|RSIZE|VGROW|RGROW|MEM|CMD|attack|type|\n",
      "+---+---+------+------+------+-----+-----+-----+-----+---+---+------+----+\n",
      "|  0|  0|     0|     0|     0|    0|    0|    0|    0|  0|  0|     0|   0|\n",
      "+---+---+------+------+------+-----+-----+-----+-----+---+---+------+----+\n",
      "\n",
      "+---+---+----+-----+-----+----+----+---+----+-----+------+---+-----+---+---+------+----+\n",
      "| ts|PID|TRUN|TSLPI|TSLPU|POLI|NICE|PRI|RTPR|CPUNR|Status|EXC|State|CPU|CMD|attack|type|\n",
      "+---+---+----+-----+-----+----+----+---+----+-----+------+---+-----+---+---+------+----+\n",
      "|  0|  0|   0|    0|    0|   0|   0|  0|   0|    0|     0|  0|    0|  0|  0|     0|   0|\n",
      "+---+---+----+-----+-----+----+----+---+----+-----+------+---+-----+---+---+------+----+\n",
      "\n",
      "+---+---+----+-----+-----+----+----+---+----+-----+------+---+-----+---+---+------+----+\n",
      "| ts|PID|TRUN|TSLPI|TSLPU|POLI|NICE|PRI|RTPR|CPUNR|Status|EXC|State|CPU|CMD|attack|type|\n",
      "+---+---+----+-----+-----+----+----+---+----+-----+------+---+-----+---+---+------+----+\n",
      "|  0|  0|   0|    0|    0|   0|   0|  0|   0|    0|     0|  0|    0|  0|  0|     0|   0|\n",
      "+---+---+----+-----+-----+----+----+---+----+-----+------+---+-----+---+---+------+----+\n",
      "\n"
     ]
    }
   ],
   "source": [
    "from pyspark.sql.functions import isnan, when, count, col\n",
    "\n",
    "for df in df_list:\n",
    "    df.select([count(when(isnan(c) | col(c).isNull(), c)).alias(c) for c in df.columns]).show()"
   ]
  },
  {
   "cell_type": "markdown",
   "metadata": {},
   "source": [
    "We can see above that the dataframes don't contain any null data, and by looking at the schemas printed above we can also observe that the use of each file's schema was correctly implemented. The use of `inferSchema` has loaded the second dataset of memory process with some incorrect fields that are as `StringType`. In the following cells we will explore the reason why to then perform some wrangling to the required columns and convert them into the proper datatype. "
   ]
  },
  {
   "cell_type": "markdown",
   "metadata": {},
   "source": [
    "**MINFLT**  \n",
    "For each of the problematic fields we will first try to cast into the correct datatype and save it as a new column. Then we can observe the null values and the information that was there before in order to understand how to clean the data properly. (As a reference we will print some values from the same column but on the first file which are not presenting problems with the datatype)"
   ]
  },
  {
   "cell_type": "code",
   "execution_count": 10,
   "metadata": {
    "ExecuteTime": {
     "end_time": "2020-10-03T01:07:41.323515Z",
     "start_time": "2020-10-03T01:07:40.576948Z"
    },
    "scrolled": false
   },
   "outputs": [
    {
     "name": "stdout",
     "output_type": "stream",
     "text": [
      "+------+----------+\n",
      "|MINFLT|MINFLT_INT|\n",
      "+------+----------+\n",
      "|  132K|      null|\n",
      "|  132K|      null|\n",
      "|  132K|      null|\n",
      "|  132K|      null|\n",
      "|  132K|      null|\n",
      "+------+----------+\n",
      "only showing top 5 rows\n",
      "\n",
      "+------+\n",
      "|MINFLT|\n",
      "+------+\n",
      "|859502|\n",
      "|247354|\n",
      "| 57311|\n",
      "| 68006|\n",
      "| 72300|\n",
      "+------+\n",
      "only showing top 5 rows\n",
      "\n"
     ]
    }
   ],
   "source": [
    "from pyspark.sql import functions as F\n",
    "from pyspark.sql.types import IntegerType\n",
    "# mem2_df = spark.read.format('csv')\\\n",
    "#             .option('header',True).option('inferSchema',True).load('linux_memory_2.csv')\n",
    "mem2_df2 = mem2_df.withColumn('MINFLT_INT',F.col('MINFLT').cast(IntegerType()))\n",
    "mem2_df2.select('MINFLT','MINFLT_INT').filter(col('MINFLT_INT').isNull()).show(5)\n",
    "mem1_df.select('MINFLT').show(5)"
   ]
  },
  {
   "cell_type": "markdown",
   "metadata": {},
   "source": [
    "**MAJFLT**"
   ]
  },
  {
   "cell_type": "code",
   "execution_count": 11,
   "metadata": {
    "ExecuteTime": {
     "end_time": "2020-10-03T01:07:41.840919Z",
     "start_time": "2020-10-03T01:07:41.325165Z"
    }
   },
   "outputs": [
    {
     "name": "stdout",
     "output_type": "stream",
     "text": [
      "+------+----------+\n",
      "|MAJFLT|MAJFLT_INT|\n",
      "+------+----------+\n",
      "|224.2M|      null|\n",
      "|224.2M|      null|\n",
      "|224.2M|      null|\n",
      "|224.2M|      null|\n",
      "|224.2M|      null|\n",
      "+------+----------+\n",
      "only showing top 5 rows\n",
      "\n",
      "+------+\n",
      "|MAJFLT|\n",
      "+------+\n",
      "|    54|\n",
      "|    95|\n",
      "|    33|\n",
      "|    17|\n",
      "|    69|\n",
      "+------+\n",
      "only showing top 5 rows\n",
      "\n"
     ]
    }
   ],
   "source": [
    "mem2_df2 = mem2_df.withColumn('MAJFLT_INT',F.col('MAJFLT').cast(IntegerType()))\n",
    "mem2_df2.select('MAJFLT','MAJFLT_INT').filter(col('MAJFLT_INT').isNull()).show(5)\n",
    "mem1_df.select('MAJFLT').show(5)"
   ]
  },
  {
   "cell_type": "markdown",
   "metadata": {},
   "source": [
    "**VSTEXT**"
   ]
  },
  {
   "cell_type": "code",
   "execution_count": 12,
   "metadata": {
    "ExecuteTime": {
     "end_time": "2020-10-03T01:07:42.268952Z",
     "start_time": "2020-10-03T01:07:41.842886Z"
    }
   },
   "outputs": [
    {
     "name": "stdout",
     "output_type": "stream",
     "text": [
      "+------+----------+\n",
      "|VSTEXT|VSTEXT_INT|\n",
      "+------+----------+\n",
      "| 9392K|      null|\n",
      "| 9392K|      null|\n",
      "| 9392K|      null|\n",
      "| 9392K|      null|\n",
      "| 9392K|      null|\n",
      "+------+----------+\n",
      "only showing top 5 rows\n",
      "\n",
      "+------+\n",
      "|VSTEXT|\n",
      "+------+\n",
      "|   193|\n",
      "|   193|\n",
      "|  2219|\n",
      "|  3063|\n",
      "|  1350|\n",
      "+------+\n",
      "only showing top 5 rows\n",
      "\n"
     ]
    }
   ],
   "source": [
    "mem2_df2 = mem2_df.withColumn('VSTEXT_INT',F.col('VSTEXT').cast(IntegerType()))\n",
    "mem2_df2.select('VSTEXT','VSTEXT_INT').filter(col('VSTEXT_INT').isNull()).show(5)\n",
    "mem1_df.select('VSTEXT').show(5)"
   ]
  },
  {
   "cell_type": "markdown",
   "metadata": {},
   "source": [
    "**RSIZE**  \n",
    "This field was presenting nulls after removing the initial 'M' observed in the first 5 rows, therefore we will remove it (using regex) and inspect what other values could be problematic (Below it can be observed that this row contained characters 'M' and 'K')"
   ]
  },
  {
   "cell_type": "code",
   "execution_count": 13,
   "metadata": {
    "ExecuteTime": {
     "end_time": "2020-10-03T01:07:43.551258Z",
     "start_time": "2020-10-03T01:07:42.270624Z"
    }
   },
   "outputs": [
    {
     "name": "stdout",
     "output_type": "stream",
     "text": [
      "+------+---------+\n",
      "| RSIZE|RSIZE_INT|\n",
      "+------+---------+\n",
      "|224.2M|     null|\n",
      "|224.2M|     null|\n",
      "|224.2M|     null|\n",
      "|224.2M|     null|\n",
      "|224.2M|     null|\n",
      "+------+---------+\n",
      "only showing top 5 rows\n",
      "\n",
      "+-----+\n",
      "|RSIZE|\n",
      "+-----+\n",
      "|519.1|\n",
      "|402.0|\n",
      "|290.7|\n",
      "|116.8|\n",
      "|109.6|\n",
      "+-----+\n",
      "only showing top 5 rows\n",
      "\n",
      "+-----+---------+\n",
      "|RSIZE|RSIZE_INT|\n",
      "+-----+---------+\n",
      "|   0K|     null|\n",
      "|   0K|     null|\n",
      "|   0K|     null|\n",
      "|   0K|     null|\n",
      "|   0K|     null|\n",
      "+-----+---------+\n",
      "only showing top 5 rows\n",
      "\n"
     ]
    }
   ],
   "source": [
    "from pyspark.sql.functions import regexp_replace\n",
    "\n",
    "mem2_df2 = mem2_df.withColumn('RSIZE_INT',F.col('RSIZE').cast(IntegerType()))\n",
    "mem2_df2.select('RSIZE','RSIZE_INT').filter(col('RSIZE_INT').isNull()).show(5)\n",
    "mem1_df.select('RSIZE').show(5)\n",
    "mem2_df2 = mem2_df.withColumn('RSIZE_INT',regexp_replace(col(\"RSIZE\"), \"M\", \"\").cast(DoubleType()))\n",
    "mem2_df2.select('RSIZE','RSIZE_INT').filter(col('RSIZE_INT').isNull()).show(5)"
   ]
  },
  {
   "cell_type": "markdown",
   "metadata": {},
   "source": [
    "**VGROW**  \n",
    "From the field above we observed that 'M' and 'K' can be present at the same time, so now in order to observe what else could be problematic we will remove both characters from the beginning and see what is left. (Below we can observe that white spaces were also observed among the values)"
   ]
  },
  {
   "cell_type": "code",
   "execution_count": 14,
   "metadata": {
    "ExecuteTime": {
     "end_time": "2020-10-03T01:07:44.546693Z",
     "start_time": "2020-10-03T01:07:43.561812Z"
    }
   },
   "outputs": [
    {
     "name": "stdout",
     "output_type": "stream",
     "text": [
      "+-----+---------+\n",
      "|VGROW|VGROW_INT|\n",
      "+-----+---------+\n",
      "|9392K|     null|\n",
      "|9392K|     null|\n",
      "|9392K|     null|\n",
      "|9392K|     null|\n",
      "|9392K|     null|\n",
      "+-----+---------+\n",
      "only showing top 5 rows\n",
      "\n",
      "+-----+\n",
      "|VGROW|\n",
      "+-----+\n",
      "|  2.0|\n",
      "|  2.6|\n",
      "|764.2|\n",
      "|725.9|\n",
      "|  1.4|\n",
      "+-----+\n",
      "only showing top 5 rows\n",
      "\n",
      "+-------+---------+\n",
      "|  VGROW|VGROW_INT|\n",
      "+-------+---------+\n",
      "| 09.8 1|     null|\n",
      "|011.2 2|     null|\n",
      "|07396 1|     null|\n",
      "|012.0 3|     null|\n",
      "|01588 1|     null|\n",
      "+-------+---------+\n",
      "only showing top 5 rows\n",
      "\n"
     ]
    }
   ],
   "source": [
    "mem2_df2 = mem2_df.withColumn('VGROW_INT',F.col('VGROW').cast(IntegerType()))\n",
    "mem2_df2.select('VGROW','VGROW_INT').filter(col('VGROW_INT').isNull()).show(5)\n",
    "mem1_df.select('VGROW').show(5)\n",
    "mem2_df2 = mem2_df.withColumn('VGROW_INT',regexp_replace(col(\"VGROW\"), \"[M,K]\", \"\").cast(DoubleType()))\n",
    "mem2_df2.select('VGROW','VGROW_INT').filter(col('VGROW_INT').isNull()).show(5)"
   ]
  },
  {
   "cell_type": "markdown",
   "metadata": {},
   "source": [
    "**RGROW**"
   ]
  },
  {
   "cell_type": "code",
   "execution_count": 15,
   "metadata": {
    "ExecuteTime": {
     "end_time": "2020-10-03T01:07:44.902569Z",
     "start_time": "2020-10-03T01:07:44.552360Z"
    }
   },
   "outputs": [
    {
     "name": "stdout",
     "output_type": "stream",
     "text": [
      "+-----+---------+\n",
      "|RGROW|RGROW_INT|\n",
      "+-----+---------+\n",
      "|   0K|     null|\n",
      "|   0K|     null|\n",
      "|   0K|     null|\n",
      "|   0K|     null|\n",
      "|   0K|     null|\n",
      "+-----+---------+\n",
      "only showing top 5 rows\n",
      "\n",
      "+-----+\n",
      "|RGROW|\n",
      "+-----+\n",
      "|519.1|\n",
      "|402.0|\n",
      "|290.7|\n",
      "|116.8|\n",
      "|109.6|\n",
      "+-----+\n",
      "only showing top 5 rows\n",
      "\n"
     ]
    }
   ],
   "source": [
    "mem2_df2 = mem2_df.withColumn('RGROW_INT',F.col('RGROW').cast(IntegerType()))\n",
    "mem2_df2.select('RGROW','RGROW_INT').filter(col('RGROW_INT').isNull()).show(5)\n",
    "mem1_df.select('RGROW').show(5)"
   ]
  },
  {
   "cell_type": "markdown",
   "metadata": {},
   "source": [
    "After observing the additional characters which were producing nulls when casting into numeric, we can now remove them using regular expressions and verify if the columns have the correct data type to then validate that there are no nulls in the dataset. To do this we can use the following function which takes the dataframe, the column to cast and the data type to cast as arguments and returns the dataframe with the correct column datatype."
   ]
  },
  {
   "cell_type": "code",
   "execution_count": 16,
   "metadata": {
    "ExecuteTime": {
     "end_time": "2020-10-03T01:07:44.943890Z",
     "start_time": "2020-10-03T01:07:44.908598Z"
    }
   },
   "outputs": [],
   "source": [
    "def reformat_column(df, colname, targetDatatype):    \n",
    "    df2 = df.withColumn('TEMP',regexp_replace(col(colname), \"\\s\", \"\").cast(targetDatatype))\n",
    "    kdf = df2.filter(col('TEMP').isNull()).filter(col(colname).rlike('K')) #get rows with K in them \n",
    "    mdf = df2.filter(col('TEMP').isNull()).filter(col(colname).rlike('M')) #get rows with M in them\n",
    "    df = df2.filter(col('TEMP').isNotNull())\\\n",
    "                .withColumn(colname,regexp_replace(col(colname), \"\\s\", \"\").cast(targetDatatype)) #get rows without nulls and cast in correct format \n",
    "    \n",
    "    if kdf.count() > 0:\n",
    "        kdf = kdf.withColumn(colname, regexp_replace(col(colname), 'K', '').cast(targetDatatype))\\\n",
    "            .withColumn(colname, col(colname)*1000)\n",
    "        df = df.union(kdf)\n",
    "    if mdf.count() > 0:\n",
    "        mdf = mdf.withColumn(colname,regexp_replace(col(colname), 'M', '').cast(targetDatatype))\\\n",
    "            .withColumn(colname, col(colname)*1000000)\n",
    "        df = df.union(mdf)\n",
    "        \n",
    "    return df.drop('TEMP').coalesce(8)"
   ]
  },
  {
   "cell_type": "code",
   "execution_count": 17,
   "metadata": {
    "ExecuteTime": {
     "end_time": "2020-10-03T01:11:22.054521Z",
     "start_time": "2020-10-03T01:07:44.946848Z"
    }
   },
   "outputs": [],
   "source": [
    "mem2_df = spark.read.format('csv')\\\n",
    "            .option('header',True).option('inferSchema',True).load('linux_memory_2.csv')\n",
    "\n",
    "mem2_df = reformat_column(mem2_df, 'MINFLT', IntegerType())\n",
    "mem2_df = reformat_column(mem2_df, 'MAJFLT', IntegerType())\n",
    "mem2_df = reformat_column(mem2_df, 'VSTEXT', IntegerType())\n",
    "mem2_df = reformat_column(mem2_df, 'RSIZE', DoubleType())\n",
    "mem2_df = reformat_column(mem2_df, 'VGROW', DoubleType())\n",
    "mem2_df = reformat_column(mem2_df, 'RGROW', DoubleType())"
   ]
  },
  {
   "cell_type": "code",
   "execution_count": 18,
   "metadata": {
    "ExecuteTime": {
     "end_time": "2020-10-03T01:11:22.070130Z",
     "start_time": "2020-10-03T01:11:22.055754Z"
    }
   },
   "outputs": [
    {
     "name": "stdout",
     "output_type": "stream",
     "text": [
      "root\n",
      " |-- ts: integer (nullable = true)\n",
      " |-- PID: integer (nullable = true)\n",
      " |-- MINFLT: integer (nullable = true)\n",
      " |-- MAJFLT: integer (nullable = true)\n",
      " |-- VSTEXT: integer (nullable = true)\n",
      " |-- VSIZE: double (nullable = true)\n",
      " |-- RSIZE: double (nullable = true)\n",
      " |-- VGROW: double (nullable = true)\n",
      " |-- RGROW: double (nullable = true)\n",
      " |-- MEM: double (nullable = true)\n",
      " |-- CMD: string (nullable = true)\n",
      " |-- attack: integer (nullable = true)\n",
      " |-- type: string (nullable = true)\n",
      "\n"
     ]
    }
   ],
   "source": [
    "mem2_df.printSchema()"
   ]
  },
  {
   "cell_type": "code",
   "execution_count": 19,
   "metadata": {
    "ExecuteTime": {
     "end_time": "2020-10-03T01:11:34.873500Z",
     "start_time": "2020-10-03T01:11:22.072933Z"
    }
   },
   "outputs": [
    {
     "name": "stdout",
     "output_type": "stream",
     "text": [
      "Memory activity partitions: 8\n"
     ]
    },
    {
     "data": {
      "text/plain": [
       "StorageLevel(True, True, False, True, 1)"
      ]
     },
     "execution_count": 19,
     "metadata": {},
     "output_type": "execute_result"
    }
   ],
   "source": [
    "mem2_df.cache()\n",
    "print('Memory activity partitions:',mem2_df.rdd.getNumPartitions())\n",
    "mem2_df.storageLevel # Validating that is cached"
   ]
  },
  {
   "cell_type": "code",
   "execution_count": 20,
   "metadata": {
    "ExecuteTime": {
     "end_time": "2020-10-03T01:15:12.732807Z",
     "start_time": "2020-10-03T01:11:34.875953Z"
    }
   },
   "outputs": [
    {
     "name": "stdout",
     "output_type": "stream",
     "text": [
      "+---+---+------+------+------+-----+-----+-----+-----+---+---+------+----+\n",
      "| ts|PID|MINFLT|MAJFLT|VSTEXT|VSIZE|RSIZE|VGROW|RGROW|MEM|CMD|attack|type|\n",
      "+---+---+------+------+------+-----+-----+-----+-----+---+---+------+----+\n",
      "|  0|  0|     0|     0|     0|    0|    0|    0|    0|  0|  0|     0|   0|\n",
      "+---+---+------+------+------+-----+-----+-----+-----+---+---+------+----+\n",
      "\n"
     ]
    }
   ],
   "source": [
    "mem2_df.select([count(when(isnan(c) | col(c).isNull(), c)).alias(c) for c in mem2_df.columns]).show()"
   ]
  },
  {
   "cell_type": "code",
   "execution_count": 21,
   "metadata": {
    "ExecuteTime": {
     "end_time": "2020-10-03T01:15:12.747887Z",
     "start_time": "2020-10-03T01:15:12.735309Z"
    }
   },
   "outputs": [],
   "source": [
    "# mem2_df = mem2_df.coalesce(4)"
   ]
  },
  {
   "cell_type": "markdown",
   "metadata": {},
   "source": [
    "### Exploring the data \n",
    "*After observing the dataframes without null values and with the same schema, we will first put them together as `mem_df` and `proc_df` by combining the two separate files*"
   ]
  },
  {
   "cell_type": "code",
   "execution_count": 22,
   "metadata": {
    "ExecuteTime": {
     "end_time": "2020-10-03T01:15:13.108867Z",
     "start_time": "2020-10-03T01:15:12.758104Z"
    }
   },
   "outputs": [
    {
     "name": "stdout",
     "output_type": "stream",
     "text": [
      "Memory activity partitions: 12\n",
      "Process activity partitions: 8\n"
     ]
    },
    {
     "data": {
      "text/plain": [
       "StorageLevel(True, True, False, True, 1)"
      ]
     },
     "execution_count": 22,
     "metadata": {},
     "output_type": "execute_result"
    }
   ],
   "source": [
    "mem_df = mem1_df.union(mem2_df)\n",
    "mem_df.cache()\n",
    "proc_df = proc1_df.union(proc2_df)\n",
    "proc_df.cache()\n",
    "print('Memory activity partitions:',mem_df.rdd.getNumPartitions())\n",
    "print('Process activity partitions:',proc_df.rdd.getNumPartitions())\n",
    "mem_df.storageLevel # Validating that is cached"
   ]
  },
  {
   "cell_type": "code",
   "execution_count": 23,
   "metadata": {
    "ExecuteTime": {
     "end_time": "2020-10-03T01:16:05.985172Z",
     "start_time": "2020-10-03T01:15:13.117444Z"
    }
   },
   "outputs": [
    {
     "name": "stdout",
     "output_type": "stream",
     "text": [
      "+---+---+------+------+------+-----+-----+-----+-----+---+---+------+----+\n",
      "| ts|PID|MINFLT|MAJFLT|VSTEXT|VSIZE|RSIZE|VGROW|RGROW|MEM|CMD|attack|type|\n",
      "+---+---+------+------+------+-----+-----+-----+-----+---+---+------+----+\n",
      "|  0|  0|     0|     0|     0|    0|    0|    0|    0|  0|  0|     0|   0|\n",
      "+---+---+------+------+------+-----+-----+-----+-----+---+---+------+----+\n",
      "\n",
      "+---+---+----+-----+-----+----+----+---+----+-----+------+---+-----+---+---+------+----+\n",
      "| ts|PID|TRUN|TSLPI|TSLPU|POLI|NICE|PRI|RTPR|CPUNR|Status|EXC|State|CPU|CMD|attack|type|\n",
      "+---+---+----+-----+-----+----+----+---+----+-----+------+---+-----+---+---+------+----+\n",
      "|  0|  0|   0|    0|    0|   0|   0|  0|   0|    0|     0|  0|    0|  0|  0|     0|   0|\n",
      "+---+---+----+-----+-----+----+----+---+----+-----+------+---+-----+---+---+------+----+\n",
      "\n"
     ]
    }
   ],
   "source": [
    "mem_df.select([count(when(isnan(c) | col(c).isNull(), c)).alias(c) for c in mem_df.columns]).show()\n",
    "proc_df.select([count(when(isnan(c) | col(c).isNull(), c)).alias(c) for c in proc_df.columns]).show()"
   ]
  },
  {
   "cell_type": "code",
   "execution_count": 24,
   "metadata": {
    "ExecuteTime": {
     "end_time": "2020-10-03T01:16:12.467511Z",
     "start_time": "2020-10-03T01:16:05.987926Z"
    }
   },
   "outputs": [
    {
     "name": "stdout",
     "output_type": "stream",
     "text": [
      "Memory Activity:\n",
      "+------+-------+\n",
      "|attack|  count|\n",
      "+------+-------+\n",
      "|     1| 205623|\n",
      "|     0|1794377|\n",
      "+------+-------+\n",
      "\n"
     ]
    }
   ],
   "source": [
    "print(\"Memory Activity:\")\n",
    "mem_df.groupBy('attack').count().show()"
   ]
  },
  {
   "cell_type": "code",
   "execution_count": 25,
   "metadata": {
    "ExecuteTime": {
     "end_time": "2020-10-03T01:16:13.658660Z",
     "start_time": "2020-10-03T01:16:12.472995Z"
    }
   },
   "outputs": [
    {
     "name": "stdout",
     "output_type": "stream",
     "text": [
      "Process Activity:\n",
      "+------+-------+\n",
      "|attack|  count|\n",
      "+------+-------+\n",
      "|     1| 291364|\n",
      "|     0|1636604|\n",
      "+------+-------+\n",
      "\n"
     ]
    }
   ],
   "source": [
    "print(\"Process Activity:\")\n",
    "proc_df.groupBy('attack').count().show()"
   ]
  },
  {
   "cell_type": "code",
   "execution_count": 26,
   "metadata": {
    "ExecuteTime": {
     "end_time": "2020-10-03T01:16:15.584508Z",
     "start_time": "2020-10-03T01:16:13.663546Z"
    }
   },
   "outputs": [
    {
     "name": "stdout",
     "output_type": "stream",
     "text": [
      "Kind of attack count for Process Activity:\n",
      "+---------+-------+\n",
      "|     type|  count|\n",
      "+---------+-------+\n",
      "|   normal|1636604|\n",
      "|     ddos|  71603|\n",
      "|      dos|  70721|\n",
      "| password|  51409|\n",
      "|injection|  41311|\n",
      "| scanning|  38449|\n",
      "|      xss|  17759|\n",
      "|     mitm|    112|\n",
      "+---------+-------+\n",
      "\n"
     ]
    }
   ],
   "source": [
    "print(\"Kind of attack count for Process Activity:\")\n",
    "proc_df.groupBy('type').count().sort(col('count').desc()).show()"
   ]
  },
  {
   "cell_type": "markdown",
   "metadata": {},
   "source": [
    "In the memory activity it is observed that the class attack = 1 (there was an attack) is considerably smaller compared to the cases where there was no attack (around 9 times smaller in the complete memory activity data). In the case of the process activity we observe a similar situation with the class 1 being considerably smaller again. \n",
    "\n",
    "As a consequence, in the kind of attack count we can observe that normal (corresponding to no attack) is as expected much bigger than the other classes and then most of them are not as different except for `mitm` which is very small with only 112 cases (Although `xss` is around 4 times smaller than `ddos` or `dos`). \n",
    "\n",
    "This results are relevant in order to realize that the use of accuracy might not be a good measurement for our model evaluation in the future and it will be better to consider an alternative approach like the F1 score."
   ]
  },
  {
   "cell_type": "markdown",
   "metadata": {},
   "source": [
    "2. For each numeric feature in each activity, show the basic statistics (including count, mean, stddev, min, max); for each non-numeric feature in each activity, display the top-10 values and the corresponding counts.\n",
    "    * No need to show the labels at “attack” or “type” column"
   ]
  },
  {
   "cell_type": "markdown",
   "metadata": {},
   "source": [
    "**Numeric features Memory activity**"
   ]
  },
  {
   "cell_type": "code",
   "execution_count": 27,
   "metadata": {
    "ExecuteTime": {
     "end_time": "2020-10-03T01:16:18.109856Z",
     "start_time": "2020-10-03T01:16:15.586829Z"
    }
   },
   "outputs": [
    {
     "data": {
      "text/html": [
       "<div>\n",
       "<style scoped>\n",
       "    .dataframe tbody tr th:only-of-type {\n",
       "        vertical-align: middle;\n",
       "    }\n",
       "\n",
       "    .dataframe tbody tr th {\n",
       "        vertical-align: top;\n",
       "    }\n",
       "\n",
       "    .dataframe thead th {\n",
       "        text-align: right;\n",
       "    }\n",
       "</style>\n",
       "<table border=\"1\" class=\"dataframe\">\n",
       "  <thead>\n",
       "    <tr style=\"text-align: right;\">\n",
       "      <th></th>\n",
       "      <th>summary</th>\n",
       "      <th>ts</th>\n",
       "      <th>PID</th>\n",
       "      <th>MINFLT</th>\n",
       "      <th>MAJFLT</th>\n",
       "      <th>VSTEXT</th>\n",
       "      <th>VSIZE</th>\n",
       "      <th>RSIZE</th>\n",
       "      <th>VGROW</th>\n",
       "      <th>RGROW</th>\n",
       "      <th>MEM</th>\n",
       "    </tr>\n",
       "  </thead>\n",
       "  <tbody>\n",
       "    <tr>\n",
       "      <th>0</th>\n",
       "      <td>count</td>\n",
       "      <td>2000000</td>\n",
       "      <td>2000000</td>\n",
       "      <td>2000000</td>\n",
       "      <td>2000000</td>\n",
       "      <td>2000000</td>\n",
       "      <td>2000000</td>\n",
       "      <td>2000000</td>\n",
       "      <td>2000000</td>\n",
       "      <td>2000000</td>\n",
       "      <td>2000000</td>\n",
       "    </tr>\n",
       "    <tr>\n",
       "      <th>1</th>\n",
       "      <td>mean</td>\n",
       "      <td>1.55624581707609E9</td>\n",
       "      <td>4999.360446</td>\n",
       "      <td>983.344344</td>\n",
       "      <td>986703.878731</td>\n",
       "      <td>46453.2681675</td>\n",
       "      <td>4496.419966451404</td>\n",
       "      <td>23722.888664199574</td>\n",
       "      <td>984.4668735600001</td>\n",
       "      <td>483.17466254999994</td>\n",
       "      <td>0.0033851649999978852</td>\n",
       "    </tr>\n",
       "    <tr>\n",
       "      <th>2</th>\n",
       "      <td>stddev</td>\n",
       "      <td>984463.3682874208</td>\n",
       "      <td>4887.313351921406</td>\n",
       "      <td>19229.610980642155</td>\n",
       "      <td>1.4825685595235161E7</td>\n",
       "      <td>658730.2055745388</td>\n",
       "      <td>9046.338093399</td>\n",
       "      <td>1986383.180873493</td>\n",
       "      <td>86174.82585202281</td>\n",
       "      <td>1491.4761059171833</td>\n",
       "      <td>0.010943425779985798</td>\n",
       "    </tr>\n",
       "    <tr>\n",
       "      <th>3</th>\n",
       "      <td>min</td>\n",
       "      <td>1554216855</td>\n",
       "      <td>1007</td>\n",
       "      <td>0</td>\n",
       "      <td>0</td>\n",
       "      <td>0</td>\n",
       "      <td>0.0</td>\n",
       "      <td>-9728.0</td>\n",
       "      <td>-9392000.0</td>\n",
       "      <td>0.0</td>\n",
       "      <td>0.0</td>\n",
       "    </tr>\n",
       "    <tr>\n",
       "      <th>4</th>\n",
       "      <td>max</td>\n",
       "      <td>1558355716</td>\n",
       "      <td>53096</td>\n",
       "      <td>8050000</td>\n",
       "      <td>224000000</td>\n",
       "      <td>11200000</td>\n",
       "      <td>88040.0</td>\n",
       "      <td>2.244E8</td>\n",
       "      <td>1.116E7</td>\n",
       "      <td>98920.0</td>\n",
       "      <td>0.44</td>\n",
       "    </tr>\n",
       "  </tbody>\n",
       "</table>\n",
       "</div>"
      ],
      "text/plain": [
       "  summary                  ts                PID              MINFLT  \\\n",
       "0   count             2000000            2000000             2000000   \n",
       "1    mean  1.55624581707609E9        4999.360446          983.344344   \n",
       "2  stddev   984463.3682874208  4887.313351921406  19229.610980642155   \n",
       "3     min          1554216855               1007                   0   \n",
       "4     max          1558355716              53096             8050000   \n",
       "\n",
       "                 MAJFLT             VSTEXT              VSIZE  \\\n",
       "0               2000000            2000000            2000000   \n",
       "1         986703.878731      46453.2681675  4496.419966451404   \n",
       "2  1.4825685595235161E7  658730.2055745388     9046.338093399   \n",
       "3                     0                  0                0.0   \n",
       "4             224000000           11200000            88040.0   \n",
       "\n",
       "                RSIZE              VGROW               RGROW  \\\n",
       "0             2000000            2000000             2000000   \n",
       "1  23722.888664199574  984.4668735600001  483.17466254999994   \n",
       "2   1986383.180873493  86174.82585202281  1491.4761059171833   \n",
       "3             -9728.0         -9392000.0                 0.0   \n",
       "4             2.244E8            1.116E7             98920.0   \n",
       "\n",
       "                     MEM  \n",
       "0                2000000  \n",
       "1  0.0033851649999978852  \n",
       "2   0.010943425779985798  \n",
       "3                    0.0  \n",
       "4                   0.44  "
      ]
     },
     "execution_count": 27,
     "metadata": {},
     "output_type": "execute_result"
    }
   ],
   "source": [
    "non_num_mem = {'CMD','attack','type'}\n",
    "mem_df.select([c for c in mem_df.columns if c not in non_num_mem]).describe().toPandas()"
   ]
  },
  {
   "cell_type": "markdown",
   "metadata": {},
   "source": [
    "**Numeric features Process activity**"
   ]
  },
  {
   "cell_type": "code",
   "execution_count": 28,
   "metadata": {
    "ExecuteTime": {
     "end_time": "2020-10-03T01:16:19.583990Z",
     "start_time": "2020-10-03T01:16:18.119491Z"
    }
   },
   "outputs": [
    {
     "data": {
      "text/html": [
       "<div>\n",
       "<style scoped>\n",
       "    .dataframe tbody tr th:only-of-type {\n",
       "        vertical-align: middle;\n",
       "    }\n",
       "\n",
       "    .dataframe tbody tr th {\n",
       "        vertical-align: top;\n",
       "    }\n",
       "\n",
       "    .dataframe thead th {\n",
       "        text-align: right;\n",
       "    }\n",
       "</style>\n",
       "<table border=\"1\" class=\"dataframe\">\n",
       "  <thead>\n",
       "    <tr style=\"text-align: right;\">\n",
       "      <th></th>\n",
       "      <th>summary</th>\n",
       "      <th>ts</th>\n",
       "      <th>PID</th>\n",
       "      <th>TRUN</th>\n",
       "      <th>TSLPI</th>\n",
       "      <th>TSLPU</th>\n",
       "      <th>NICE</th>\n",
       "      <th>PRI</th>\n",
       "      <th>RTPR</th>\n",
       "      <th>CPUNR</th>\n",
       "      <th>EXC</th>\n",
       "      <th>CPU</th>\n",
       "    </tr>\n",
       "  </thead>\n",
       "  <tbody>\n",
       "    <tr>\n",
       "      <th>0</th>\n",
       "      <td>count</td>\n",
       "      <td>1927968</td>\n",
       "      <td>1927968</td>\n",
       "      <td>1927968</td>\n",
       "      <td>1927968</td>\n",
       "      <td>1927968</td>\n",
       "      <td>1927968</td>\n",
       "      <td>1927968</td>\n",
       "      <td>1927968</td>\n",
       "      <td>1927968</td>\n",
       "      <td>1927968</td>\n",
       "      <td>1927968</td>\n",
       "    </tr>\n",
       "    <tr>\n",
       "      <th>1</th>\n",
       "      <td>mean</td>\n",
       "      <td>1.5563198311840394E9</td>\n",
       "      <td>5068.709770597852</td>\n",
       "      <td>0.0632287465352122</td>\n",
       "      <td>3.508334163222626</td>\n",
       "      <td>3.6100184235422994E-4</td>\n",
       "      <td>4.634469555511295</td>\n",
       "      <td>111.26826741937626</td>\n",
       "      <td>0.0</td>\n",
       "      <td>1.9210142491991569</td>\n",
       "      <td>0.030275398761805176</td>\n",
       "      <td>0.02238527299210013</td>\n",
       "    </tr>\n",
       "    <tr>\n",
       "      <th>2</th>\n",
       "      <td>stddev</td>\n",
       "      <td>771350.0248039652</td>\n",
       "      <td>4987.784329320474</td>\n",
       "      <td>0.2478258709041608</td>\n",
       "      <td>6.988459728531766</td>\n",
       "      <td>0.04421874419214576</td>\n",
       "      <td>8.40318986475202</td>\n",
       "      <td>22.624445062102996</td>\n",
       "      <td>0.0</td>\n",
       "      <td>1.52740472259029</td>\n",
       "      <td>1.4619498567691742</td>\n",
       "      <td>0.1362894368718419</td>\n",
       "    </tr>\n",
       "    <tr>\n",
       "      <th>3</th>\n",
       "      <td>min</td>\n",
       "      <td>1554216855</td>\n",
       "      <td>1007</td>\n",
       "      <td>0</td>\n",
       "      <td>0</td>\n",
       "      <td>0</td>\n",
       "      <td>0</td>\n",
       "      <td>0</td>\n",
       "      <td>0</td>\n",
       "      <td>0</td>\n",
       "      <td>0</td>\n",
       "      <td>0.0</td>\n",
       "    </tr>\n",
       "    <tr>\n",
       "      <th>4</th>\n",
       "      <td>max</td>\n",
       "      <td>1557593017</td>\n",
       "      <td>53080</td>\n",
       "      <td>12</td>\n",
       "      <td>70</td>\n",
       "      <td>21</td>\n",
       "      <td>20</td>\n",
       "      <td>139</td>\n",
       "      <td>0</td>\n",
       "      <td>5</td>\n",
       "      <td>127</td>\n",
       "      <td>4.02</td>\n",
       "    </tr>\n",
       "  </tbody>\n",
       "</table>\n",
       "</div>"
      ],
      "text/plain": [
       "  summary                    ts                PID                TRUN  \\\n",
       "0   count               1927968            1927968             1927968   \n",
       "1    mean  1.5563198311840394E9  5068.709770597852  0.0632287465352122   \n",
       "2  stddev     771350.0248039652  4987.784329320474  0.2478258709041608   \n",
       "3     min            1554216855               1007                   0   \n",
       "4     max            1557593017              53080                  12   \n",
       "\n",
       "               TSLPI                  TSLPU               NICE  \\\n",
       "0            1927968                1927968            1927968   \n",
       "1  3.508334163222626  3.6100184235422994E-4  4.634469555511295   \n",
       "2  6.988459728531766    0.04421874419214576   8.40318986475202   \n",
       "3                  0                      0                  0   \n",
       "4                 70                     21                 20   \n",
       "\n",
       "                  PRI     RTPR               CPUNR                   EXC  \\\n",
       "0             1927968  1927968             1927968               1927968   \n",
       "1  111.26826741937626      0.0  1.9210142491991569  0.030275398761805176   \n",
       "2  22.624445062102996      0.0    1.52740472259029    1.4619498567691742   \n",
       "3                   0        0                   0                     0   \n",
       "4                 139        0                   5                   127   \n",
       "\n",
       "                   CPU  \n",
       "0              1927968  \n",
       "1  0.02238527299210013  \n",
       "2   0.1362894368718419  \n",
       "3                  0.0  \n",
       "4                 4.02  "
      ]
     },
     "execution_count": 28,
     "metadata": {},
     "output_type": "execute_result"
    }
   ],
   "source": [
    "non_num_proc = {'CMD','attack','type','POLI','Status','State'}\n",
    "proc_df.select([c for c in proc_df.columns if c not in non_num_proc]).describe().toPandas()"
   ]
  },
  {
   "cell_type": "markdown",
   "metadata": {},
   "source": [
    "**Non-Numeric features Memory activity**"
   ]
  },
  {
   "cell_type": "code",
   "execution_count": 29,
   "metadata": {
    "ExecuteTime": {
     "end_time": "2020-10-03T01:16:24.979922Z",
     "start_time": "2020-10-03T01:16:19.591769Z"
    }
   },
   "outputs": [
    {
     "name": "stdout",
     "output_type": "stream",
     "text": [
      "Non-Numeric Memory Activity:\n",
      "\n",
      "-------CMD-------\n",
      "+----------+------+\n",
      "|       CMD| count|\n",
      "+----------+------+\n",
      "|      atop|325985|\n",
      "|   apache2| 89761|\n",
      "| jfsCommit| 81714|\n",
      "|  vmtoolsd| 77871|\n",
      "|      Xorg| 49981|\n",
      "|  nautilus| 48356|\n",
      "|irqbalance| 44387|\n",
      "|    compiz| 44356|\n",
      "|  ostinato| 43024|\n",
      "|     drone| 41392|\n",
      "+----------+------+\n",
      "only showing top 10 rows\n",
      "\n"
     ]
    }
   ],
   "source": [
    "print(\"Non-Numeric Memory Activity:\\n\")\n",
    "for cat in non_num_mem:\n",
    "    if cat not in {'attack','type'}:\n",
    "        print(\"-------%s-------\" %(cat))\n",
    "        mem_df.groupBy(cat).count().sort(col('count').desc()).show(10)"
   ]
  },
  {
   "cell_type": "markdown",
   "metadata": {},
   "source": [
    "**Non-Numeric features Process activity**"
   ]
  },
  {
   "cell_type": "code",
   "execution_count": 30,
   "metadata": {
    "ExecuteTime": {
     "end_time": "2020-10-03T01:16:29.476833Z",
     "start_time": "2020-10-03T01:16:24.981497Z"
    }
   },
   "outputs": [
    {
     "name": "stdout",
     "output_type": "stream",
     "text": [
      "Non-Numeric Process Activity:\n",
      "\n",
      "-------POLI-------\n",
      "+----+-------+\n",
      "|POLI|  count|\n",
      "+----+-------+\n",
      "|norm|1861558|\n",
      "|   0|  53216|\n",
      "|   -|  13194|\n",
      "+----+-------+\n",
      "\n",
      "-------Status-------\n",
      "+------+-------+\n",
      "|Status|  count|\n",
      "+------+-------+\n",
      "|     -|1416322|\n",
      "|     0| 438984|\n",
      "|    NE|  48602|\n",
      "|     N|  23313|\n",
      "|    NS|    743|\n",
      "|     C|      3|\n",
      "|    NC|      1|\n",
      "+------+-------+\n",
      "\n",
      "-------State-------\n",
      "+-----+-------+\n",
      "|State|  count|\n",
      "+-----+-------+\n",
      "|    S|1676350|\n",
      "|    I|  98986|\n",
      "|    R|  84753|\n",
      "|    E|  66410|\n",
      "|    Z|   1118|\n",
      "|    D|    344|\n",
      "|    T|      7|\n",
      "+-----+-------+\n",
      "\n",
      "-------CMD-------\n",
      "+--------------+------+\n",
      "|           CMD| count|\n",
      "+--------------+------+\n",
      "|          atop|441180|\n",
      "|       apache2|313143|\n",
      "|      vmtoolsd|112029|\n",
      "|          Xorg| 66813|\n",
      "|      nautilus| 63449|\n",
      "|gnome-terminal| 47628|\n",
      "|        compiz| 44386|\n",
      "|    irqbalance| 44324|\n",
      "|      ostinato| 42979|\n",
      "|         drone| 41390|\n",
      "+--------------+------+\n",
      "only showing top 10 rows\n",
      "\n"
     ]
    }
   ],
   "source": [
    "print(\"Non-Numeric Process Activity:\\n\")\n",
    "for cat in non_num_proc:\n",
    "    if cat not in {'attack','type'}:\n",
    "        print(\"-------%s-------\" %(cat))\n",
    "        proc_df.groupBy(cat).count().sort(col('count').desc()).show(10)"
   ]
  },
  {
   "cell_type": "markdown",
   "metadata": {},
   "source": [
    "  **Note:** This section was based on Kienzler, R. Fundamentals of scalable Data Science. Retrieved from https://www.coursera.org/lecture/ds/plotting-with-apachespark-and-pythons-matplotlib-mjCxm"
   ]
  },
  {
   "cell_type": "code",
   "execution_count": 31,
   "metadata": {
    "ExecuteTime": {
     "end_time": "2020-10-03T01:16:29.838035Z",
     "start_time": "2020-10-03T01:16:29.478150Z"
    }
   },
   "outputs": [],
   "source": [
    "import matplotlib.pyplot as plt\n",
    "%matplotlib inline\n",
    "plt.rcParams['figure.figsize'] = [15, 8]"
   ]
  },
  {
   "cell_type": "markdown",
   "metadata": {},
   "source": [
    "**Plot 1 Memory activity**"
   ]
  },
  {
   "cell_type": "code",
   "execution_count": 32,
   "metadata": {
    "ExecuteTime": {
     "end_time": "2020-10-03T01:18:01.718282Z",
     "start_time": "2020-10-03T01:16:29.845499Z"
    }
   },
   "outputs": [
    {
     "name": "stdout",
     "output_type": "stream",
     "text": [
      "Sampled records: 99772\n"
     ]
    }
   ],
   "source": [
    "mem_pl1_df = mem_df.select('ts','attack').sort(col('ts').asc()) #Sort by ts to have the correct time order\n",
    "mem_pl1_rdd = mem_pl1_df.rdd.sample(False, 0.05, seed = 123).map(lambda x: (x[0],x[1]))\n",
    "print('Sampled records:',len(mem_pl1_rdd.collect()))\n",
    "mem_pl1_ts = mem_pl1_rdd.map(lambda x: x[0]).collect()\n",
    "mem_pl1_attack = mem_pl1_rdd.map(lambda x: x[1]).collect()"
   ]
  },
  {
   "cell_type": "code",
   "execution_count": 33,
   "metadata": {
    "ExecuteTime": {
     "end_time": "2020-10-03T01:18:02.052658Z",
     "start_time": "2020-10-03T01:18:01.725631Z"
    }
   },
   "outputs": [
    {
     "data": {
      "text/plain": [
       "Text(0.5, 1.0, 'Run chart Attacks over time (sampled records: 100K)')"
      ]
     },
     "execution_count": 33,
     "metadata": {},
     "output_type": "execute_result"
    },
    {
     "data": {
      "image/png": "[encoded data removed]",
      "text/plain": [
       "<Figure size 1080x576 with 1 Axes>"
      ]
     },
     "metadata": {
      "needs_background": "light"
     },
     "output_type": "display_data"
    }
   ],
   "source": [
    "plt.plot(mem_pl1_ts, mem_pl1_attack)\n",
    "plt.xlabel('Time Stamp')\n",
    "plt.ylabel('Attack (1 = yes / 0 = No)')\n",
    "plt.title('Run chart Attacks over time (sampled records: 100K)')"
   ]
  },
  {
   "cell_type": "markdown",
   "metadata": {},
   "source": [
    "**Discussion:** In the above plot we observe the time stamp for a sample of around 100K records (corresponding to 5% of the memory activity) and whether the record was classified as attack or not. The graph shows that the observed attacks are concentrated close to each other which shows that identifying them early is crucial in order to take measurements to prevent following attacks which seem to follow closely after the first one is performed."
   ]
  },
  {
   "cell_type": "markdown",
   "metadata": {},
   "source": [
    "**Plot2 Memory Activity**"
   ]
  },
  {
   "cell_type": "code",
   "execution_count": 34,
   "metadata": {
    "ExecuteTime": {
     "end_time": "2020-10-03T01:18:18.835331Z",
     "start_time": "2020-10-03T01:18:02.061187Z"
    }
   },
   "outputs": [
    {
     "name": "stdout",
     "output_type": "stream",
     "text": [
      "Sampled records: 20585\n",
      "Sampled records: 89597\n"
     ]
    }
   ],
   "source": [
    "mem_pl2_df1 = mem_df.select('attack','VSTEXT','RSIZE','MAJFLT','VSIZE').filter(col('attack')==1)\n",
    "mem_pl2_df0 = mem_df.select('attack','VSTEXT','RSIZE','MAJFLT','VSIZE').filter(col('attack')==0)\n",
    "\n",
    "mem_pl2_rdd1 = mem_pl2_df1.rdd.sample(False, 0.1, seed = 123).map(lambda x: (x[0],x[1],x[2],x[3],x[4]))\n",
    "mem_pl2_rdd0 = mem_pl2_df0.rdd.sample(False, 0.05, seed = 123).map(lambda x: (x[0],x[1],x[2],x[3],x[4]))\n",
    "print('Sampled records:',len(mem_pl2_rdd1.collect()))\n",
    "print('Sampled records:',len(mem_pl2_rdd0.collect()))\n",
    "\n",
    "mem_pl2_vstext1 = mem_pl2_rdd1.map(lambda x: x[1]).collect()\n",
    "mem_pl2_rsize1 = mem_pl2_rdd1.map(lambda x: x[2]).collect()\n",
    "mem_pl2_majflt1 = mem_pl2_rdd1.map(lambda x: x[3]).collect()\n",
    "mem_pl2_vsize1 = mem_pl2_rdd1.map(lambda x: x[4]).collect()\n",
    "\n",
    "mem_pl2_vstext0 = mem_pl2_rdd0.map(lambda x: x[1]).collect()\n",
    "mem_pl2_rsize0 = mem_pl2_rdd0.map(lambda x: x[2]).collect()\n",
    "mem_pl2_majflt0 = mem_pl2_rdd0.map(lambda x: x[3]).collect()\n",
    "mem_pl2_vsize0 = mem_pl2_rdd0.map(lambda x: x[4]).collect()"
   ]
  },
  {
   "cell_type": "code",
   "execution_count": 35,
   "metadata": {
    "ExecuteTime": {
     "end_time": "2020-10-03T01:18:19.232131Z",
     "start_time": "2020-10-03T01:18:18.841618Z"
    },
    "scrolled": false
   },
   "outputs": [
    {
     "data": {
      "text/plain": [
       "([<matplotlib.axis.XTick at 0x7f1634ff1430>,\n",
       "  <matplotlib.axis.XTick at 0x7f1634ff1e20>],\n",
       " [Text(0, 0, '1'), Text(2, 0, '0')])"
      ]
     },
     "execution_count": 35,
     "metadata": {},
     "output_type": "execute_result"
    },
    {
     "data": {
      "image/png": "[encoded data removed]",
      "text/plain": [
       "<Figure size 1080x576 with 1 Axes>"
      ]
     },
     "metadata": {
      "needs_background": "light"
     },
     "output_type": "display_data"
    }
   ],
   "source": [
    "import numpy as np \n",
    "\n",
    "## https://stackoverflow.com/questions/16592222/matplotlib-group-boxplots\n",
    "def box_color(bp, color):\n",
    "    plt.setp(bp['boxes'], color=color)\n",
    "    plt.setp(bp['whiskers'], color=color)\n",
    "    plt.setp(bp['caps'], color=color)\n",
    "    plt.setp(bp['medians'], color=color)\n",
    "\n",
    "ticks = ['1', '0']\n",
    "\n",
    "data_1 = [mem_pl2_vstext1, mem_pl2_vstext0]\n",
    "data_2 = [mem_pl2_rsize1, mem_pl2_rsize0]\n",
    "data_3 = [mem_pl2_majflt1, mem_pl2_majflt0]\n",
    "data_4 = [mem_pl2_vsize1, mem_pl2_vsize0]\n",
    "\n",
    "bp1 = plt.boxplot(data_1, positions=np.array(range(len(data_1)))*2.0-0.2, sym='', widths=0.3)\n",
    "bp2 = plt.boxplot(data_2, positions=np.array(range(len(data_2)))*2.0+0.2, sym='', widths=0.3)\n",
    "bp3 = plt.boxplot(data_3, positions=np.array(range(len(data_3)))*2.0+0.6, sym='', widths=0.3)\n",
    "bp4 = plt.boxplot(data_4, positions=np.array(range(len(data_4)))*2.0+1, sym='', widths=0.3)\n",
    "\n",
    "box_color(bp1, '#2c7fb8') \n",
    "box_color(bp2, '#feb24c')\n",
    "box_color(bp3, '#07c0af') \n",
    "box_color(bp4, '#9600d8') #e8751b \n",
    "\n",
    "plt.plot([], c='#2c7fb8', label='VSTEXT')\n",
    "plt.plot([], c='#feb24c', label='RSIZE')\n",
    "plt.plot([], c='#07c0af', label='MAJFLT')\n",
    "plt.plot([], c='#9600d8', label='VSIZE')\n",
    "plt.legend()\n",
    "\n",
    "plt.title('Boxplots for VSTEXT, RSIZE, MAJFLT and VSIZE grouped by Attack (1) and Not Attack (0)')\n",
    "plt.xticks(range(0, len(ticks) * 2, 2), ticks)"
   ]
  },
  {
   "cell_type": "markdown",
   "metadata": {},
   "source": [
    "**Discussion:** In the above boxplots we can observe that for the columns `RSIZE` and `VSTEXT` the values associated with this variables tend to be much higher when the activity is labeled as 1 (attack). This behavior is also observed in `MAJFLT`, although the scale is different and for this reason it is not as easy to observe at a first glance. For the case of `VSIZE` we observe a similar behavior for both scenarios (attack and non-attack) which could mean that this variable is not as useful for the model."
   ]
  },
  {
   "cell_type": "markdown",
   "metadata": {},
   "source": [
    "**Plot1 Process activity**"
   ]
  },
  {
   "cell_type": "code",
   "execution_count": 36,
   "metadata": {
    "ExecuteTime": {
     "end_time": "2020-10-03T01:18:25.032642Z",
     "start_time": "2020-10-03T01:18:19.242694Z"
    }
   },
   "outputs": [
    {
     "name": "stdout",
     "output_type": "stream",
     "text": [
      "Sampled records: 14782\n",
      "Sampled records: 81636\n"
     ]
    }
   ],
   "source": [
    "proc_pl1_df1 = proc_df.select('attack','PRI','CPU').filter(col('attack')==1)\n",
    "proc_pl1_df0 = proc_df.select('attack','PRI','CPU').filter(col('attack')==0)\n",
    "\n",
    "proc_pl1_rdd1 = proc_pl1_df1.rdd.sample(False, 0.05, seed = 123).map(lambda x: (x[0],x[1],x[2]))\n",
    "proc_pl1_rdd0 = proc_pl1_df0.rdd.sample(False, 0.05, seed = 123).map(lambda x: (x[0],x[1],x[2]))\n",
    "print('Sampled records:',len(proc_pl1_rdd1.collect()))\n",
    "print('Sampled records:',len(proc_pl1_rdd0.collect()))\n",
    "\n",
    "proc_pl1_pri1 = proc_pl1_rdd1.map(lambda x: x[1]).collect()\n",
    "proc_pl1_cpu1 = proc_pl1_rdd1.map(lambda x: x[2]).collect()\n",
    "proc_pl1_pri0 = proc_pl1_rdd0.map(lambda x: x[1]).collect()\n",
    "proc_pl1_cpu0 = proc_pl1_rdd0.map(lambda x: x[2]).collect()"
   ]
  },
  {
   "cell_type": "code",
   "execution_count": 37,
   "metadata": {
    "ExecuteTime": {
     "end_time": "2020-10-03T01:18:27.674129Z",
     "start_time": "2020-10-03T01:18:25.035228Z"
    }
   },
   "outputs": [
    {
     "data": {
      "text/plain": [
       "Text(0.5, 1.0, 'CPU time vs Process Priority (PRI)')"
      ]
     },
     "execution_count": 37,
     "metadata": {},
     "output_type": "execute_result"
    },
    {
     "data": {
      "image/png": "[encoded data removed]",
      "text/plain": [
       "<Figure size 1080x576 with 1 Axes>"
      ]
     },
     "metadata": {
      "needs_background": "light"
     },
     "output_type": "display_data"
    }
   ],
   "source": [
    "plt.scatter(proc_pl1_cpu1, proc_pl1_pri1, c='r', alpha=0.2, label='Attack')\n",
    "plt.scatter(proc_pl1_cpu0, proc_pl1_pri0, c='g', alpha=0.2, label='Non-Attack')\n",
    "plt.axvline(x=0.5, linestyle='--', alpha = 0.8)\n",
    "plt.legend()\n",
    "plt.xlabel('CPU')\n",
    "plt.ylabel('PRI')\n",
    "plt.title('CPU time vs Process Priority (PRI)')"
   ]
  },
  {
   "cell_type": "markdown",
   "metadata": {},
   "source": [
    "**Discussion:** In the above plot we can observe the `CPU` time consumption of the process together with the Priority of  the process which ranges from 0 to 99 for realtime processes and 100 and above for timesharing processes. This shows that for CPU times above 0.5 (right area after the blue line) the amount of activities labeled as 'Attack' (red dots) increases considerably when compared to the green dots (not attacks). In contrast, the left area of the plot (to the left of the blue line) shows mainly green dots. For the `PRI` variable we can observe that for values greater than 100, corresponding to timesharing processes, there is a bigger proportion of red dots which correspond to attacks (also in the metadata it is mentioned that this variable is related to `NICE` so including both may lead to collinearities)"
   ]
  },
  {
   "cell_type": "markdown",
   "metadata": {},
   "source": [
    "**Plot2 Process activity**"
   ]
  },
  {
   "cell_type": "code",
   "execution_count": 38,
   "metadata": {
    "ExecuteTime": {
     "end_time": "2020-10-03T01:18:44.457108Z",
     "start_time": "2020-10-03T01:18:27.678138Z"
    }
   },
   "outputs": [],
   "source": [
    "proc_pl2_df1 = proc_df.select('attack','State').filter(col('attack')==1)\n",
    "proc_pl2_df0 = proc_df.select('attack','State').filter(col('attack')==0)\n",
    "proc_pl2_df1 = proc_pl2_df1.groupBy('State').count()\n",
    "proc_pl2_df0 = proc_pl2_df0.groupBy('State').count()\n",
    "\n",
    "proc_pl2_rdd1 = proc_pl2_df1.rdd.map(lambda x: (x[0], x[1]))\n",
    "proc_pl2_rdd0 = proc_pl2_df0.rdd.map(lambda x: (x[0], x[1]))\n",
    "\n",
    "proc_pl2_status1 = proc_pl2_rdd1.map(lambda x: x[0]).collect()\n",
    "proc_pl2_count1 = proc_pl2_rdd1.map(lambda x: x[1]).collect()\n",
    "proc_pl2_status0 = proc_pl2_rdd0.map(lambda x: x[0]).collect()\n",
    "proc_pl2_count0 = proc_pl2_rdd0.map(lambda x: x[1]).collect()"
   ]
  },
  {
   "cell_type": "code",
   "execution_count": 39,
   "metadata": {
    "ExecuteTime": {
     "end_time": "2020-10-03T01:18:44.762776Z",
     "start_time": "2020-10-03T01:18:44.458695Z"
    }
   },
   "outputs": [
    {
     "data": {
      "text/plain": [
       "Text(0.5, 1.0, 'Count of State of process for Attack and Non-Attack records')"
      ]
     },
     "execution_count": 39,
     "metadata": {},
     "output_type": "execute_result"
    },
    {
     "data": {
      "image/png": "[encoded data removed]",
      "text/plain": [
       "<Figure size 1080x576 with 1 Axes>"
      ]
     },
     "metadata": {
      "needs_background": "light"
     },
     "output_type": "display_data"
    }
   ],
   "source": [
    "plt.bar(proc_pl2_status0, proc_pl2_count0, color='g', alpha=0.4, label='Non-Attack')\n",
    "plt.bar(proc_pl2_status1, proc_pl2_count1, color='r', alpha=0.6, label='Attack')\n",
    "\n",
    "plt.legend()\n",
    "plt.xlabel('State')\n",
    "plt.ylabel('Count')\n",
    "plt.title('Count of State of process for Attack and Non-Attack records')"
   ]
  },
  {
   "cell_type": "markdown",
   "metadata": {},
   "source": [
    "**Discussion:** In the above graph we observe the distribution of the different categories for *current State* of the main thread of the process (R: Running, S: Sleeping, E: exit, etc). Here we can observe that when a process presents the state R, it may have a higher proportion of cases labeled as Attack than with other levels. However, the number of processes under this category is very reduced and seems to be difficult to use this to distinguish between attack and no attack."
   ]
  },
  {
   "cell_type": "markdown",
   "metadata": {},
   "source": [
    "## Feature extraction and ML training\n",
    "### Preparing the training data and testing data\n",
    "1. Randomly split the dataset into 80% training data and 20% testing data for each use case"
   ]
  },
  {
   "cell_type": "code",
   "execution_count": 40,
   "metadata": {
    "ExecuteTime": {
     "end_time": "2020-10-03T01:18:44.863371Z",
     "start_time": "2020-10-03T01:18:44.764784Z"
    }
   },
   "outputs": [],
   "source": [
    "#Splitting the data into testing and training set\n",
    "train_mem, test_mem = mem_df.randomSplit([0.8, 0.2])\n",
    "train_proc, test_proc = proc_df.randomSplit([0.8, 0.2])"
   ]
  },
  {
   "cell_type": "markdown",
   "metadata": {},
   "source": [
    "2. With the class imbalance observed, for the binary classification use case 1 & 2, prepare rebalanced training data, with attack events and non-attack events being 1:2 ratio, while using 20% attack events data from the training data from 2.1.1. Cache the rebalanced training data, and display the count of each event's data.  \n",
    "*Here I use undersampling for this*"
   ]
  },
  {
   "cell_type": "code",
   "execution_count": 41,
   "metadata": {
    "ExecuteTime": {
     "end_time": "2020-10-03T01:18:44.882288Z",
     "start_time": "2020-10-03T01:18:44.865315Z"
    }
   },
   "outputs": [],
   "source": [
    "def rebalance_function(df, sple=0):\n",
    "    # Get the attack events from training data\n",
    "    df1 = df.filter(col('attack')==1)\n",
    "    df0 = df.filter(col('attack')==0)\n",
    "    \n",
    "    if sple>0:        \n",
    "        df1 = df1.sample(False, sple, seed = 123) # Sample 20% of the attack events found above\n",
    "        attack_count = df1.count()\n",
    "        # Get the non-attack events as twice the amount of attack events\n",
    "        df0 = df0.sample(False, sple, seed = 123).limit(attack_count*2)\n",
    "    else:\n",
    "        attack_count = df1.count()\n",
    "        df0 = df0.sample(False, 0.8, seed = 123).limit(attack_count*2)\n",
    "\n",
    "    # Cache the rebalanced training data\n",
    "    rebal_df = df1.union(df0)\n",
    "    rebal_df.cache()\n",
    "    \n",
    "    return df1, df0, rebal_df"
   ]
  },
  {
   "cell_type": "code",
   "execution_count": 42,
   "metadata": {
    "ExecuteTime": {
     "end_time": "2020-10-03T01:18:56.155542Z",
     "start_time": "2020-10-03T01:18:44.886355Z"
    }
   },
   "outputs": [
    {
     "name": "stdout",
     "output_type": "stream",
     "text": [
      "Memory activity attacks count rebalanced training: 32862\n",
      "Memory activity Non-attacks count rebalanced training: 65724\n",
      "Memory activity Total count rebalanced training: 98586\n"
     ]
    },
    {
     "data": {
      "text/plain": [
       "StorageLevel(True, True, False, True, 1)"
      ]
     },
     "execution_count": 42,
     "metadata": {},
     "output_type": "execute_result"
    }
   ],
   "source": [
    "train_mem1, train_mem0, rebal_train_mem = rebalance_function(train_mem, 0.2)\n",
    "print('Memory activity attacks count rebalanced training:',train_mem1.count())\n",
    "print('Memory activity Non-attacks count rebalanced training:',train_mem0.count())\n",
    "print('Memory activity Total count rebalanced training:',rebal_train_mem.count())\n",
    "rebal_train_mem.storageLevel # Validating that data is cached"
   ]
  },
  {
   "cell_type": "code",
   "execution_count": 43,
   "metadata": {
    "ExecuteTime": {
     "end_time": "2020-10-03T01:19:01.785209Z",
     "start_time": "2020-10-03T01:18:56.158625Z"
    }
   },
   "outputs": [
    {
     "name": "stdout",
     "output_type": "stream",
     "text": [
      "Process activity attacks count rebalanced training: 46605\n",
      "Process activity Non-attacks count rebalanced training: 93210\n",
      "Process activity Total count rebalanced training: 139815\n"
     ]
    },
    {
     "data": {
      "text/plain": [
       "StorageLevel(True, True, False, True, 1)"
      ]
     },
     "execution_count": 43,
     "metadata": {},
     "output_type": "execute_result"
    }
   ],
   "source": [
    "train_proc1, train_proc0, rebal_train_proc = rebalance_function(train_proc, 0.2)\n",
    "print('Process activity attacks count rebalanced training:',train_proc1.count())\n",
    "print('Process activity Non-attacks count rebalanced training:',train_proc0.count())\n",
    "print('Process activity Total count rebalanced training:',rebal_train_proc.count())\n",
    "rebal_train_proc.storageLevel # Validating that data is cached"
   ]
  },
  {
   "cell_type": "markdown",
   "metadata": {},
   "source": [
    "### Preparing features, labels and models\n",
    "1. Based on data exploration, which features select?"
   ]
  },
  {
   "cell_type": "markdown",
   "metadata": {},
   "source": [
    "From the data exploration we can see that although the `ts` gives a great insight about the importance of early detection of attacks in order to prevent future ones, it seems challenging to use this as a feature for the model. Instead, variables like `RSIZE`, `MAJFLT` and `VSTEXT` seem to be very good for detecting the cases that are associated with attacks, because those records present particularly high values for this variables, while the cases that were not associated with attacks tend to contain a lower value for these columns in the memory activity.\n",
    "\n",
    "On the other hand, the `CPU` variable seems highly relevant and it could be combined with `PRI` as observed in the graph above. The `State` variable was also considered in the graphs and could be relevant, however it will be necessary to evaluate it to determine whether it is good for the model.\n",
    "\n",
    "According to the nature of these variables we can observe that four of them present a numeric data type, therefore the use of indexing or one-hot encoding is not necessary. However, for the use of `State`, which is a categorical variable, will require the use of string indexing to obtain the categories in a numerical format that will then be transformed with one-hot encoding in order to obtain the data that can be transformed into features to feed our model in a next stage.\n",
    "\n",
    "Finally, we should consider scaling the numeric data for models that rely on distance to make their predictions (for example using euclidean in K-means). This happens because they present very different units, which may affect the performance of the model as the distance difference would be distorted by the use of different units to measure the attributes. However, for models like decision tree or Gradient boosting trees it is not necessary as they don't rely on the use of distance between data points in order to classify them (in sparks documentation for GBTs it is explicitly mention that they don't require scaling https://spark.apache.org/docs/latest/mllib-ensembles.html)."
   ]
  },
  {
   "cell_type": "markdown",
   "metadata": {},
   "source": [
    "2. Create Transformers / Estimators for transforming / assembling the features you selected above"
   ]
  },
  {
   "cell_type": "markdown",
   "metadata": {},
   "source": [
    "**Transformer for POLI**"
   ]
  },
  {
   "cell_type": "code",
   "execution_count": 44,
   "metadata": {
    "ExecuteTime": {
     "end_time": "2020-10-03T01:19:02.008464Z",
     "start_time": "2020-10-03T01:19:01.788822Z"
    }
   },
   "outputs": [
    {
     "name": "stdout",
     "output_type": "stream",
     "text": [
      "+----------+----+----+-----+-----+----+----+---+----+-----+------+---+-----+----+-----------+------+------+--------+\n",
      "|        ts| PID|TRUN|TSLPI|TSLPU|POLI|NICE|PRI|RTPR|CPUNR|Status|EXC|State| CPU|        CMD|attack|  type|POLI_idx|\n",
      "+----------+----+----+-----+-----+----+----+---+----+-----+------+---+-----+----+-----------+------+------+--------+\n",
      "|1554218915|3257|   0|   23|    0|norm|   0|120|   0|    2|     N|  0|    S|0.13|Web-Content|     0|normal|       0|\n",
      "|1554218920|1442|   0|    1|    0|norm|   0|120|   0|    0|     N|  0|    S|0.09|       Xorg|     0|normal|       0|\n",
      "|1554218925|3197|   0|   63|    0|norm|   0|120|   0|    3|     N|  0|    S|0.06|    firefox|     0|normal|       0|\n",
      "+----------+----+----+-----+-----+----+----+---+----+-----+------+---+-----+----+-----------+------+------+--------+\n",
      "only showing top 3 rows\n",
      "\n"
     ]
    }
   ],
   "source": [
    "from itertools import chain\n",
    "\n",
    "poli_dict = {'norm':0,'btch':1,'idle':2,'fifo':3,'rr':4,'0':5,'-':6}\n",
    "\n",
    "custom_mapping = F.create_map([F.lit(x) for x in chain(*poli_dict.items())]) # https://stackoverflow.com/questions/63015500/building-custom-stringindexer-in-pyspark\n",
    "proc_df = proc_df.withColumn(\"POLI_idx\", custom_mapping[F.col(\"POLI\")])\n",
    "proc_df.show(3)"
   ]
  },
  {
   "cell_type": "code",
   "execution_count": 45,
   "metadata": {
    "ExecuteTime": {
     "end_time": "2020-10-03T01:19:15.996153Z",
     "start_time": "2020-10-03T01:19:02.010391Z"
    }
   },
   "outputs": [
    {
     "name": "stdout",
     "output_type": "stream",
     "text": [
      "Process activity attacks count rebalanced training: 233055\n",
      "Process activity Non-attacks count rebalanced training: 466110\n",
      "Process activity Total count rebalanced training: 699165\n"
     ]
    },
    {
     "data": {
      "text/plain": [
       "StorageLevel(True, True, False, True, 1)"
      ]
     },
     "execution_count": 45,
     "metadata": {},
     "output_type": "execute_result"
    }
   ],
   "source": [
    "## Generating the new rebalanced data after getting POLI_idx\n",
    "train_proc, test_proc = proc_df.randomSplit([0.8, 0.2])\n",
    "\n",
    "train_proc1, train_proc0, rebal_train_proc = rebalance_function(train_proc)\n",
    "print('Process activity attacks count rebalanced training:',train_proc1.count())\n",
    "print('Process activity Non-attacks count rebalanced training:',train_proc0.count())\n",
    "print('Process activity Total count rebalanced training:',rebal_train_proc.count())\n",
    "rebal_train_proc.storageLevel # Validating that data is cached"
   ]
  },
  {
   "cell_type": "markdown",
   "metadata": {},
   "source": [
    "**Features Memory activity**"
   ]
  },
  {
   "cell_type": "code",
   "execution_count": 46,
   "metadata": {
    "ExecuteTime": {
     "end_time": "2020-10-03T01:36:24.155712Z",
     "start_time": "2020-10-03T01:36:24.018525Z"
    }
   },
   "outputs": [],
   "source": [
    "from pyspark.ml.feature import VectorAssembler\n",
    "\n",
    "# numeric columns to be included in the model \n",
    "numeric_cols = ['VSTEXT','RSIZE','MAJFLT','VSIZE']\n",
    "assembler_mem = VectorAssembler(inputCols=numeric_cols, outputCol='features')"
   ]
  },
  {
   "cell_type": "markdown",
   "metadata": {},
   "source": [
    "**Features Process activity**  \n",
    "Here we have the `State` feature which is categorical, and we will implement the `POLI` column with the indexing that was performed above at the start of this section."
   ]
  },
  {
   "cell_type": "code",
   "execution_count": 47,
   "metadata": {
    "ExecuteTime": {
     "end_time": "2020-10-03T01:36:28.300890Z",
     "start_time": "2020-10-03T01:36:28.275291Z"
    }
   },
   "outputs": [],
   "source": [
    "from pyspark.ml.feature import StringIndexer\n",
    "\n",
    "inputCol = 'State'\n",
    "outputCol = 'State_idx'\n",
    "\n",
    "indexer_proc = StringIndexer(inputCol=inputCol, outputCol=outputCol).setHandleInvalid(\"keep\")"
   ]
  },
  {
   "cell_type": "code",
   "execution_count": 48,
   "metadata": {
    "ExecuteTime": {
     "end_time": "2020-10-03T01:36:39.797242Z",
     "start_time": "2020-10-03T01:36:39.767398Z"
    }
   },
   "outputs": [],
   "source": [
    "from pyspark.ml.feature import OneHotEncoder\n",
    "inputCols_OHE = ['State_idx','POLI_idx'] #input columns for OHE\n",
    "outputCols_OHE = ['State_vec','POLI_vec']#output columns for OHE\n",
    "\n",
    "#define OneHotEncoder\n",
    "ohe_proc = OneHotEncoder(inputCols=inputCols_OHE, outputCols=outputCols_OHE)"
   ]
  },
  {
   "cell_type": "code",
   "execution_count": 49,
   "metadata": {
    "ExecuteTime": {
     "end_time": "2020-10-03T01:36:41.269447Z",
     "start_time": "2020-10-03T01:36:41.254717Z"
    }
   },
   "outputs": [],
   "source": [
    "numeric_cols_proc = ['CPU','PRI','TSLPI']\n",
    "\n",
    "# Put together all features (numerical and no numerical)\n",
    "inputColsVecAss = numeric_cols_proc+outputCols_OHE #input columns \n",
    "assembler_proc = VectorAssembler(inputCols=inputColsVecAss, outputCol='features')"
   ]
  },
  {
   "cell_type": "markdown",
   "metadata": {},
   "source": [
    "3. Prepare Estimators for Decision Tree and Gradient Boosted Tree model for each use case and include them into ML Pipelines for use case 1, 2 "
   ]
  },
  {
   "cell_type": "code",
   "execution_count": 50,
   "metadata": {
    "ExecuteTime": {
     "end_time": "2020-10-03T01:37:26.641504Z",
     "start_time": "2020-10-03T01:37:26.523044Z"
    }
   },
   "outputs": [],
   "source": [
    "from pyspark.ml.classification import DecisionTreeClassifier\n",
    "from pyspark.ml.classification import GBTClassifier\n",
    "\n",
    "dt = DecisionTreeClassifier(featuresCol = 'features', labelCol = 'attack', maxDepth=2)\n",
    "gbt = GBTClassifier(featuresCol=\"features\", labelCol=\"attack\", maxIter=8, maxDepth=2)"
   ]
  },
  {
   "cell_type": "code",
   "execution_count": 51,
   "metadata": {
    "ExecuteTime": {
     "end_time": "2020-10-03T01:37:27.374105Z",
     "start_time": "2020-10-03T01:37:27.366199Z"
    }
   },
   "outputs": [],
   "source": [
    "from pyspark.ml import Pipeline\n",
    "# plug the stages into the pipline for memory\n",
    "pipeline_mem_dt = Pipeline(stages=[assembler_mem, dt])\n",
    "pipeline_mem_gbt = Pipeline(stages=[assembler_mem, gbt])\n",
    "\n",
    "# plug the stages into the pipline for process\n",
    "pipeline_proc_dt = Pipeline(stages=[indexer_proc, ohe_proc, assembler_proc, dt])\n",
    "pipeline_proc_gbt = Pipeline(stages=[indexer_proc, ohe_proc, assembler_proc, gbt])"
   ]
  },
  {
   "cell_type": "markdown",
   "metadata": {},
   "source": [
    "### Training and evaluating models\n",
    "1. For each use case, use the corresponding ML Pipeline from previous step to train the models on the rebalanced training data"
   ]
  },
  {
   "cell_type": "markdown",
   "metadata": {},
   "source": [
    "**Function for CV in Decision tree models**  \n",
    "In order to do some hyperparameter tunning, we will design a grid for the `Decision tree` and another one for the `Gradient boosted trees` in order to find the best performing Depth, bins, and Iter (trees) for them. The following sections will contain the results of the grid using cross validation (3 folds for computing time limitations) for the `Decision tree` and `Gradient boosted trees` in each use case."
   ]
  },
  {
   "cell_type": "code",
   "execution_count": 52,
   "metadata": {
    "ExecuteTime": {
     "end_time": "2020-10-03T01:39:01.168637Z",
     "start_time": "2020-10-03T01:39:01.145911Z"
    }
   },
   "outputs": [],
   "source": [
    "from pyspark.ml.tuning import ParamGridBuilder, CrossValidator,CrossValidatorModel\n",
    "from pyspark.ml.evaluation import BinaryClassificationEvaluator\n",
    "# Create ParamGrid for Cross Validation\n",
    "dtparamGrid = (ParamGridBuilder()\n",
    "             .addGrid(dt.maxDepth, [5, 9, 14])\n",
    "             .addGrid(dt.maxBins, [20, 30, 40])\n",
    "             .build())\n",
    "\n",
    "gbtparamGrid = (ParamGridBuilder().addGrid(gbt.maxDepth, [8, 10])\n",
    "                .addGrid(gbt.maxIter, [10, 20])\n",
    "                .build())\n",
    "\n",
    "# Define an evaluator to be used for evaluating the model \n",
    "mlevaluator = BinaryClassificationEvaluator(rawPredictionCol=\"rawPrediction\", labelCol='attack')"
   ]
  },
  {
   "cell_type": "code",
   "execution_count": 53,
   "metadata": {
    "ExecuteTime": {
     "end_time": "2020-10-03T01:39:02.940906Z",
     "start_time": "2020-10-03T01:39:02.933496Z"
    }
   },
   "outputs": [],
   "source": [
    "def ml_cv_setup(pipeline, grid, train_df, nfolds=3):\n",
    "    mlcv = CrossValidator(estimator = pipeline, estimatorParamMaps = grid,\n",
    "                      evaluator = mlevaluator, numFolds = nfolds) # Create 3-fold CrossValidator    \n",
    "    mlcvModel = mlcv.fit(train_df) # Run cross validations\n",
    "    return mlcvModel"
   ]
  },
  {
   "cell_type": "markdown",
   "metadata": {},
   "source": [
    "**Memory decision tree**"
   ]
  },
  {
   "cell_type": "code",
   "execution_count": 119,
   "metadata": {
    "ExecuteTime": {
     "end_time": "2020-09-25T12:17:21.992661Z",
     "start_time": "2020-09-25T12:07:23.450097Z"
    }
   },
   "outputs": [],
   "source": [
    "dtcvModel1 = ml_cv_setup(pipeline_mem_dt, dtparamGrid, rebal_train_mem)"
   ]
  },
  {
   "cell_type": "code",
   "execution_count": 120,
   "metadata": {
    "ExecuteTime": {
     "end_time": "2020-09-25T12:17:22.021352Z",
     "start_time": "2020-09-25T12:17:22.001948Z"
    }
   },
   "outputs": [
    {
     "name": "stdout",
     "output_type": "stream",
     "text": [
      "[VectorAssembler_6b0f04c0a81f, DecisionTreeClassificationModel: uid=DecisionTreeClassifier_e13b10cdc2de, depth=14, numNodes=541, numClasses=2, numFeatures=4]\n",
      "Best Param for DT memory:  {\n",
      "\tDecisionTreeClassifier_e13b10cdc2de-featuresCol: features,\n",
      "\tDecisionTreeClassifier_e13b10cdc2de-labelCol: attack,\n",
      "\tDecisionTreeClassifier_e13b10cdc2de-maxBins: 40,\n",
      "\tDecisionTreeClassifier_e13b10cdc2de-maxDepth: 14\n",
      "}\n"
     ]
    }
   ],
   "source": [
    "bestModel1 = dtcvModel1.bestModel\n",
    "print(bestModel1.stages)\n",
    "print('Best Param for DT memory: ', bestModel1.stages[-1]._java_obj.paramMap())"
   ]
  },
  {
   "cell_type": "markdown",
   "metadata": {},
   "source": [
    "**Memory GBT**"
   ]
  },
  {
   "cell_type": "code",
   "execution_count": 129,
   "metadata": {
    "ExecuteTime": {
     "end_time": "2020-09-25T13:35:29.707828Z",
     "start_time": "2020-09-25T12:26:15.041727Z"
    }
   },
   "outputs": [
    {
     "name": "stdout",
     "output_type": "stream",
     "text": [
      "[VectorAssembler_6b0f04c0a81f, GBTClassificationModel: uid = GBTClassifier_e6daaf68d28b, numTrees=20, numClasses=2, numFeatures=4]\n",
      "Best Param for DT Process activity:  {\n",
      "\tGBTClassifier_e6daaf68d28b-featuresCol: features,\n",
      "\tGBTClassifier_e6daaf68d28b-labelCol: attack,\n",
      "\tGBTClassifier_e6daaf68d28b-maxDepth: 10,\n",
      "\tGBTClassifier_e6daaf68d28b-maxIter: 20\n",
      "}\n"
     ]
    }
   ],
   "source": [
    "gbtcvModel1 = ml_cv_setup(pipeline_mem_gbt, gbtparamGrid, rebal_train_mem)\n",
    "\n",
    "bestModel2 = gbtcvModel1.bestModel\n",
    "print(bestModel2.stages)\n",
    "print('Best Param for DT Process activity: ', bestModel2.stages[-1]._java_obj.paramMap())"
   ]
  },
  {
   "cell_type": "markdown",
   "metadata": {},
   "source": [
    "**Process decision tree**"
   ]
  },
  {
   "cell_type": "code",
   "execution_count": 134,
   "metadata": {
    "ExecuteTime": {
     "end_time": "2020-09-25T13:44:14.690429Z",
     "start_time": "2020-09-25T13:39:30.844897Z"
    }
   },
   "outputs": [
    {
     "name": "stdout",
     "output_type": "stream",
     "text": [
      "[StringIndexerModel: uid=StringIndexer_b556e3764394, handleInvalid=keep, OneHotEncoderModel: uid=OneHotEncoder_0b62251b102d, dropLast=true, handleInvalid=error, numInputCols=2, numOutputCols=2, VectorAssembler_1fcb572ce4a8, DecisionTreeClassificationModel: uid=DecisionTreeClassifier_8853f11620a2, depth=14, numNodes=321, numClasses=2, numFeatures=15]\n",
      "Best Param for DT memory:  {\n",
      "\tDecisionTreeClassifier_8853f11620a2-featuresCol: features,\n",
      "\tDecisionTreeClassifier_8853f11620a2-labelCol: attack,\n",
      "\tDecisionTreeClassifier_8853f11620a2-maxBins: 40,\n",
      "\tDecisionTreeClassifier_8853f11620a2-maxDepth: 14\n",
      "}\n"
     ]
    }
   ],
   "source": [
    "dtcvModel2 = ml_cv_setup(pipeline_proc_dt, dtparamGrid, rebal_train_proc)\n",
    "bestModel3 = dtcvModel2.bestModel\n",
    "print(bestModel3.stages)\n",
    "print('Best Param for DT memory: ', bestModel3.stages[-1]._java_obj.paramMap())"
   ]
  },
  {
   "cell_type": "markdown",
   "metadata": {},
   "source": [
    "**Process GBT**"
   ]
  },
  {
   "cell_type": "code",
   "execution_count": 138,
   "metadata": {
    "ExecuteTime": {
     "end_time": "2020-09-25T14:04:48.161258Z",
     "start_time": "2020-09-25T13:52:50.586997Z"
    }
   },
   "outputs": [
    {
     "name": "stdout",
     "output_type": "stream",
     "text": [
      "[StringIndexerModel: uid=StringIndexer_b556e3764394, handleInvalid=keep, OneHotEncoderModel: uid=OneHotEncoder_0b62251b102d, dropLast=true, handleInvalid=error, numInputCols=2, numOutputCols=2, VectorAssembler_1fcb572ce4a8, GBTClassificationModel: uid = GBTClassifier_703b6144bbc9, numTrees=15, numClasses=2, numFeatures=15]\n",
      "Best Param for DT Process activity:  {\n",
      "\tGBTClassifier_703b6144bbc9-featuresCol: features,\n",
      "\tGBTClassifier_703b6144bbc9-labelCol: attack,\n",
      "\tGBTClassifier_703b6144bbc9-maxBins: 40,\n",
      "\tGBTClassifier_703b6144bbc9-maxDepth: 9,\n",
      "\tGBTClassifier_703b6144bbc9-maxIter: 15\n",
      "}\n"
     ]
    }
   ],
   "source": [
    "gbtcvModel2 = ml_cv_setup(pipeline_proc_gbt, gbtparamGrid, rebal_train_proc)\n",
    "\n",
    "bestModel4 = gbtcvModel2.bestModel\n",
    "print(bestModel4.stages)\n",
    "print('Best Param for DT Process activity: ', bestModel4.stages[-1]._java_obj.paramMap())"
   ]
  },
  {
   "cell_type": "markdown",
   "metadata": {},
   "source": [
    "$\\,$  \n",
    "*Each of the sections displayed above show the different hyperparameters of the models which were found to be the best for each case after using cross validation (with 3 folds).*\n",
    "\n",
    "2. For each use case, test the models on the testing data and display the count of each combination of attack label and prediction label in formats as below."
   ]
  },
  {
   "cell_type": "markdown",
   "metadata": {},
   "source": [
    "**Memory decision tree**"
   ]
  },
  {
   "cell_type": "code",
   "execution_count": 121,
   "metadata": {
    "ExecuteTime": {
     "end_time": "2020-09-25T12:17:40.699277Z",
     "start_time": "2020-09-25T12:17:22.029327Z"
    }
   },
   "outputs": [
    {
     "name": "stdout",
     "output_type": "stream",
     "text": [
      "+------+----------+------+\n",
      "|attack|prediction| count|\n",
      "+------+----------+------+\n",
      "|     1|       0.0|  4288|\n",
      "|     0|       0.0|135497|\n",
      "|     1|       1.0| 36659|\n",
      "|     0|       1.0|222480|\n",
      "+------+----------+------+\n",
      "\n"
     ]
    }
   ],
   "source": [
    "prediction_memdt = pipeline_mem_Model_dt.transform(test_mem) #generate the predictions\n",
    "selected_memdt = prediction_memdt.select('attack','prediction')\n",
    "selected_memdt.groupBy('attack','prediction').count().show()"
   ]
  },
  {
   "cell_type": "markdown",
   "metadata": {},
   "source": [
    "**Memory GBT**"
   ]
  },
  {
   "cell_type": "code",
   "execution_count": 130,
   "metadata": {
    "ExecuteTime": {
     "end_time": "2020-09-25T13:36:04.891135Z",
     "start_time": "2020-09-25T13:35:29.718339Z"
    }
   },
   "outputs": [
    {
     "name": "stdout",
     "output_type": "stream",
     "text": [
      "+------+----------+------+\n",
      "|attack|prediction| count|\n",
      "+------+----------+------+\n",
      "|     1|       0.0|  2407|\n",
      "|     0|       0.0|130100|\n",
      "|     1|       1.0| 38540|\n",
      "|     0|       1.0|227877|\n",
      "+------+----------+------+\n",
      "\n"
     ]
    }
   ],
   "source": [
    "prediction_memgbt = bestModel2.transform(test_mem) #generate the predictions\n",
    "selected_memgbt = prediction_memgbt.select('attack','prediction')\n",
    "selected_memgbt.groupBy('attack','prediction').count().show()"
   ]
  },
  {
   "cell_type": "markdown",
   "metadata": {},
   "source": [
    "**Process decision tree**"
   ]
  },
  {
   "cell_type": "code",
   "execution_count": 135,
   "metadata": {
    "ExecuteTime": {
     "end_time": "2020-09-25T13:44:22.288126Z",
     "start_time": "2020-09-25T13:44:14.694898Z"
    }
   },
   "outputs": [
    {
     "name": "stdout",
     "output_type": "stream",
     "text": [
      "+------+----------+------+\n",
      "|attack|prediction| count|\n",
      "+------+----------+------+\n",
      "|     1|       0.0| 39337|\n",
      "|     0|       0.0|262446|\n",
      "|     1|       1.0| 19112|\n",
      "|     0|       1.0| 65204|\n",
      "+------+----------+------+\n",
      "\n"
     ]
    }
   ],
   "source": [
    "prediction_procdt = bestModel3.transform(test_proc) #generate the predictions\n",
    "selected_procdt = prediction_procdt.select('attack','prediction')\n",
    "selected_procdt.groupBy('attack','prediction').count().show()"
   ]
  },
  {
   "cell_type": "markdown",
   "metadata": {},
   "source": [
    "**Process GBT**"
   ]
  },
  {
   "cell_type": "code",
   "execution_count": 139,
   "metadata": {
    "ExecuteTime": {
     "end_time": "2020-09-25T14:04:58.606374Z",
     "start_time": "2020-09-25T14:04:48.164436Z"
    }
   },
   "outputs": [
    {
     "name": "stdout",
     "output_type": "stream",
     "text": [
      "+------+----------+------+\n",
      "|attack|prediction| count|\n",
      "+------+----------+------+\n",
      "|     1|       0.0| 39454|\n",
      "|     0|       0.0|262659|\n",
      "|     1|       1.0| 18995|\n",
      "|     0|       1.0| 64991|\n",
      "+------+----------+------+\n",
      "\n"
     ]
    }
   ],
   "source": [
    "prediction_procgbt = bestModel4.transform(test_proc) #generate the predictions\n",
    "selected_procgbt = prediction_procgbt.select('attack','prediction')\n",
    "selected_procgbt.groupBy('attack','prediction').count().show()"
   ]
  },
  {
   "cell_type": "markdown",
   "metadata": {},
   "source": [
    "3. Compute the AUC, accuracy, recall and precision for the attack label from each model testing result using pyspark MLlib / ML APIs. Discuss which metric is more proper for measuring the model performance on identifying attacks.\n",
    "\n",
    "In order to compute the evaluation metrics we will create a function to print AUC, accuracy, precision, recall and F1-score. The following lines give a brief description about this metrics and a discussion about the most appropriate will be written at the end of this section.\n",
    "\n",
    "- **Recall:** Out of all the positive cases, what proportion of them was predicted correctly? It should be high as possible.\n",
    "- **Precision:** Out of all the positive cases we predicted, what proportion is actually positive?\n",
    "- **Accuracy:** Out of all the cases, what proportion have we predicted correctly? It should be high as possible.\n",
    "- **AUC:** represents degree or measure of separability. It tells how much the model is capable of distinguishing between classes. The higher the AUC, the better the model"
   ]
  },
  {
   "cell_type": "code",
   "execution_count": 54,
   "metadata": {
    "ExecuteTime": {
     "end_time": "2020-10-03T01:39:23.325662Z",
     "start_time": "2020-10-03T01:39:23.318002Z"
    }
   },
   "outputs": [],
   "source": [
    "def evaluation_metrics_func(prediction):\n",
    "    evaluator = BinaryClassificationEvaluator(rawPredictionCol=\"rawPrediction\", labelCol='attack')\n",
    "    auc = evaluator.evaluate(prediction)\n",
    "    \n",
    "    # Calculate the elements of the confusion matrix\n",
    "    TN = prediction.filter('prediction = 0 AND attack = 0').count()\n",
    "    TP = prediction.filter('prediction = 1 AND attack = 1').count()\n",
    "    FN = prediction.filter('prediction = 0 AND attack = 1').count() \n",
    "    FP = prediction.filter('prediction = 1 AND attack = 0').count() \n",
    "\n",
    "    # calculate metrics by the confusion matrix\n",
    "    accuracy = (TP+TN)/(TP+TN+FP+FN) \n",
    "    precision = TP/(TP+FP) \n",
    "    recall = TP/(TP+FN) \n",
    "    f1 = 2/((1/recall)+(1/precision))\n",
    "\n",
    "    print('AUC: %f\\nAccuracy: %f\\nPrecision: %f\\nRecall: %f\\nF1-score: %f' % (auc,accuracy,precision,recall,f1))"
   ]
  },
  {
   "cell_type": "markdown",
   "metadata": {},
   "source": [
    "**Memory decision tree - evaluation metrics**"
   ]
  },
  {
   "cell_type": "code",
   "execution_count": 157,
   "metadata": {
    "ExecuteTime": {
     "end_time": "2020-09-26T04:19:35.488096Z",
     "start_time": "2020-09-26T04:19:06.407628Z"
    }
   },
   "outputs": [
    {
     "name": "stdout",
     "output_type": "stream",
     "text": [
      "AUC: 0.590393\n",
      "Accuracy: 0.431551\n",
      "Precision: 0.141465\n",
      "Recall: 0.895279\n",
      "F1-score: 0.244323\n"
     ]
    }
   ],
   "source": [
    "evaluation_metrics_func(prediction_memdt) "
   ]
  },
  {
   "cell_type": "markdown",
   "metadata": {},
   "source": [
    "**Memory GBT - evaluation metrics**"
   ]
  },
  {
   "cell_type": "code",
   "execution_count": 164,
   "metadata": {
    "ExecuteTime": {
     "end_time": "2020-09-26T04:50:01.116422Z",
     "start_time": "2020-09-26T04:50:00.846709Z"
    }
   },
   "outputs": [
    {
     "data": {
      "text/plain": [
       "105"
      ]
     },
     "execution_count": 164,
     "metadata": {},
     "output_type": "execute_result"
    }
   ],
   "source": [
    "import gc\n",
    "gc.collect()"
   ]
  },
  {
   "cell_type": "code",
   "execution_count": 165,
   "metadata": {
    "ExecuteTime": {
     "end_time": "2020-09-26T04:50:40.025222Z",
     "start_time": "2020-09-26T04:50:01.542309Z"
    }
   },
   "outputs": [
    {
     "name": "stdout",
     "output_type": "stream",
     "text": [
      "AUC: 0.694746\n",
      "Accuracy: 0.422737\n",
      "Precision: 0.144660\n",
      "Recall: 0.941217\n",
      "F1-score: 0.250778\n"
     ]
    }
   ],
   "source": [
    "evaluation_metrics_func(prediction_memgbt)"
   ]
  },
  {
   "cell_type": "markdown",
   "metadata": {},
   "source": [
    "**Process decision tree - evaluation metrics**"
   ]
  },
  {
   "cell_type": "code",
   "execution_count": 159,
   "metadata": {
    "ExecuteTime": {
     "end_time": "2020-09-26T04:23:41.189733Z",
     "start_time": "2020-09-26T04:23:12.642769Z"
    }
   },
   "outputs": [
    {
     "name": "stdout",
     "output_type": "stream",
     "text": [
      "AUC: 0.518359\n",
      "Accuracy: 0.729238\n",
      "Precision: 0.226671\n",
      "Recall: 0.326986\n",
      "F1-score: 0.267741\n"
     ]
    }
   ],
   "source": [
    "evaluation_metrics_func(prediction_procdt) "
   ]
  },
  {
   "cell_type": "markdown",
   "metadata": {},
   "source": [
    "**Process GBT - evaluation metrics**"
   ]
  },
  {
   "cell_type": "code",
   "execution_count": 160,
   "metadata": {
    "ExecuteTime": {
     "end_time": "2020-09-26T04:24:27.242425Z",
     "start_time": "2020-09-26T04:23:52.868286Z"
    }
   },
   "outputs": [
    {
     "name": "stdout",
     "output_type": "stream",
     "text": [
      "AUC: 0.618913\n",
      "Accuracy: 0.729486\n",
      "Precision: 0.226169\n",
      "Recall: 0.324984\n",
      "F1-score: 0.266718\n"
     ]
    }
   ],
   "source": [
    "evaluation_metrics_func(prediction_procgbt) "
   ]
  },
  {
   "cell_type": "markdown",
   "metadata": {},
   "source": [
    "**Discussion:** After observing the results we can conclude that it is a challenging task to predict the attacks with the models. First of all, the dataset is highly unbalanced originally and after rebalancing it, we expect to have 33% attacks and 67% non-attacks. Also, the main task would consist in identifying attacks, which means that we would rather sacrifice a bit of precision in order to increase the positive cases identified. For this reason, Recall seems as highly relevant, however, we should not forget about the precision of the model, and with this in mind we would like to pay attention to the **F1-score** which involves a combined metric between Recall and precision, allowing to have a better idea of how they interact together.  \n",
    "This can be seen with the model 2, where the GBT in the memory activity gave a very high Recall above 90%, however, the precision of the model was very low (just around 14%), and for this reason, the GBT on the Process activity provided a higher F1-score although the Recall was just around 33%. This shows that is better to have a more balanced model rather than a model that detects a lot of the positives (`attack` = 1) but produces a lot of false positives at the same time."
   ]
  },
  {
   "cell_type": "markdown",
   "metadata": {},
   "source": [
    "4. Display the top-5 most important features in each model. Discuss which pipeline model is better, and whether the feature “ts” should be included in the model6. And visualise the ROC curve for the better model you selected for each use case.    "
   ]
  },
  {
   "cell_type": "code",
   "execution_count": 123,
   "metadata": {
    "ExecuteTime": {
     "end_time": "2020-09-25T12:18:00.634275Z",
     "start_time": "2020-09-25T12:18:00.582103Z"
    }
   },
   "outputs": [
    {
     "data": {
      "text/plain": [
       "SparseVector(4, {0: 0.1301, 1: 0.2783, 2: 0.0029, 3: 0.5887})"
      ]
     },
     "execution_count": 123,
     "metadata": {},
     "output_type": "execute_result"
    }
   ],
   "source": [
    "bestModel1.stages[-1].featureImportances"
   ]
  },
  {
   "cell_type": "code",
   "execution_count": 132,
   "metadata": {
    "ExecuteTime": {
     "end_time": "2020-09-25T13:44:40.212380Z",
     "start_time": "2020-09-25T13:44:40.145451Z"
    }
   },
   "outputs": [
    {
     "data": {
      "text/plain": [
       "SparseVector(4, {0: 0.1282, 1: 0.2085, 2: 0.007, 3: 0.6563})"
      ]
     },
     "execution_count": 132,
     "metadata": {},
     "output_type": "execute_result"
    }
   ],
   "source": [
    "bestModel2.stages[-1].featureImportances"
   ]
  },
  {
   "cell_type": "code",
   "execution_count": 137,
   "metadata": {
    "ExecuteTime": {
     "end_time": "2020-09-25T13:44:40.212380Z",
     "start_time": "2020-09-25T13:44:40.145451Z"
    }
   },
   "outputs": [
    {
     "data": {
      "text/plain": [
       "SparseVector(15, {0: 0.2222, 1: 0.1695, 2: 0.474, 3: 0.0023, 4: 0.0, 6: 0.1242, 8: 0.0001, 14: 0.0077})"
      ]
     },
     "execution_count": 137,
     "metadata": {},
     "output_type": "execute_result"
    }
   ],
   "source": [
    "bestModel3.stages[-1].featureImportances"
   ]
  },
  {
   "cell_type": "code",
   "execution_count": 141,
   "metadata": {
    "ExecuteTime": {
     "end_time": "2020-09-25T14:05:22.583437Z",
     "start_time": "2020-09-25T14:05:22.559587Z"
    }
   },
   "outputs": [
    {
     "data": {
      "text/plain": [
       "SparseVector(15, {0: 0.3587, 1: 0.171, 2: 0.3859, 3: 0.0133, 4: 0.0011, 5: 0.009, 6: 0.0492, 7: 0.0045, 8: 0.0001, 14: 0.0074})"
      ]
     },
     "execution_count": 141,
     "metadata": {},
     "output_type": "execute_result"
    }
   ],
   "source": [
    "bestModel4.stages[-1].featureImportances"
   ]
  },
  {
   "cell_type": "code",
   "execution_count": 188,
   "metadata": {
    "ExecuteTime": {
     "end_time": "2020-09-26T10:37:07.044896Z",
     "start_time": "2020-09-26T10:37:07.021544Z"
    }
   },
   "outputs": [],
   "source": [
    "from pyspark.mllib.evaluation import BinaryClassificationMetrics\n",
    "\n",
    "## Ross, A. (2019). pyspark extract ROC curve. retrieved from: https://stackoverflow.com/questions/52847408/pyspark-extract-roc-curve\n",
    "class CurveMetrics(BinaryClassificationMetrics): # sub class of BinaryClassificationMetrics\n",
    "    def __init__(self, *args):\n",
    "        super(CurveMetrics, self).__init__(*args) # superclass to access methods of the base class\n",
    "\n",
    "    def _to_list(self, rdd):\n",
    "        points = []\n",
    "        for row in rdd.collect():\n",
    "            points += [(float(row._1()), float(row._2()))]\n",
    "        return points\n",
    "\n",
    "    def get_curve(self, method):\n",
    "        rdd = getattr(self._java_model, method)().toJavaRDD() # Get rdd from model of predictions\n",
    "        return self._to_list(rdd) # get the list of points of the rdd \n",
    "    \n",
    "def plot_roc(my_pred):\n",
    "    preds = my_pred.select('attack','probability').rdd.map(lambda row: (float(row['probability'][1]), float(row['attack'])))\n",
    "    points = CurveMetrics(preds).get_curve('roc')\n",
    "\n",
    "    plt.figure()\n",
    "    x_val = [x[0] for x in points]\n",
    "    y_val = [x[1] for x in points]\n",
    "    plt.title('ROC curve')\n",
    "    plt.xlabel('False Positive Rate')\n",
    "    plt.ylabel('True Positive Rate')\n",
    "    plt.plot(x_val, y_val)\n",
    "    plt.plot([0, 1], [0, 1], 'r--')"
   ]
  },
  {
   "cell_type": "markdown",
   "metadata": {},
   "source": [
    "**ROC curve Memory activity (GBT)**"
   ]
  },
  {
   "cell_type": "code",
   "execution_count": 189,
   "metadata": {
    "ExecuteTime": {
     "end_time": "2020-09-26T10:37:24.717428Z",
     "start_time": "2020-09-26T10:37:08.245167Z"
    }
   },
   "outputs": [
    {
     "data": {
      "image/png": "[encoded data removed]",
      "text/plain": [
       "<Figure size 1080x576 with 1 Axes>"
      ]
     },
     "metadata": {
      "needs_background": "light"
     },
     "output_type": "display_data"
    }
   ],
   "source": [
    "plot_roc(prediction_memgbt)"
   ]
  },
  {
   "cell_type": "markdown",
   "metadata": {},
   "source": [
    "**ROC curve Process activity (GBT)**"
   ]
  },
  {
   "cell_type": "code",
   "execution_count": 190,
   "metadata": {
    "ExecuteTime": {
     "end_time": "2020-09-26T10:37:40.144690Z",
     "start_time": "2020-09-26T10:37:24.725896Z"
    }
   },
   "outputs": [
    {
     "data": {
      "image/png": "[encoded data removed]",
      "text/plain": [
       "<Figure size 1080x576 with 1 Axes>"
      ]
     },
     "metadata": {
      "needs_background": "light"
     },
     "output_type": "display_data"
    }
   ],
   "source": [
    "plot_roc(prediction_procgbt)"
   ]
  },
  {
   "cell_type": "markdown",
   "metadata": {},
   "source": [
    "**Discussion:** From the results above we observed that the two models of GBTs were performing better with an AUC of 0.695 for Memory activity (model 2) and 0.62 for Process activity (model 4). It's surprising that the model 2 presents a higher AUC, considering that the precision is less than half of the one registered for model 4. This implies that the recall, or ability to identify True positives among all positive cases, is relevant to improve the separability between classes. This could be the reason why model 2 is capable of distinguishing better between classes according to the higher AUC, as it presents a Recall of above 90% compared to 33% of model 4.\n",
    "\n",
    "Regarding the most relevant features, we used the `featureImportances` method for each model and observed that for the Memory activity the `VSIZE` (Total virtual memory usage consumed by the process) is the most relevant feature, with a score around 65% in the case of the GBT for this use case. The second place in importance for the memory activity models was for `RSIZE` (resident memory usage consumed by the process). The `VSTEXT` was the next relevant variable and finally the `MAJFLT` was the next one, with a much smaller score compared to all the others.\n",
    "\n",
    "In the case of Process activity we had a mix of numeric and categorical variables. Here it is observed that `CPU` (CPU time consumption) and `TSLPI` (Number of threads in state 'interruptible sleeping') are by far the most relevant in distinguishing between Attack and Not Attack (together they represent around 75% of the possible score for the importance of features). The next feature is `PRI` (Process priority) with around half the score of the first two and the final top features of this use case are some of the levels from the categorical variable `State` with just around 5% relevance.\n",
    "\n",
    "Finally, I consider `ts` feature should not be included in the model because although it can be a way to take early action once the first attack is detected (as the attacks tend to be concentrated in one specific time frame according to exploratory plots), it doesn't seem relevant to capture information of the time stamp in which an attack occurred as this may just lead to overfitting (we would be memorizing the training data rather than generalizing)\n",
    "\n",
    "**Note:** pyspark.ml.classification, the estimate of the importance of each feature is a generalization of 'Gini' importance. The importances for tree features is normalized to sum to 1 and the values for a single tree usually present high variance (for this reason we prefer a `GBT` performing just below the `Decision tree`)."
   ]
  },
  {
   "cell_type": "markdown",
   "metadata": {},
   "source": [
    "5. Using the pipeline model you selected in the previous step, re-train the pipeline model using a bigger set of rebalanced training data, with attack events and non-attack events being 1:2 ratio, while using all attack events data from the full data for both use cases. Then persist the better models for each use case.   "
   ]
  },
  {
   "cell_type": "markdown",
   "metadata": {},
   "source": [
    "**Memory activity**"
   ]
  },
  {
   "cell_type": "code",
   "execution_count": 128,
   "metadata": {
    "ExecuteTime": {
     "end_time": "2020-09-25T12:25:35.604641Z",
     "start_time": "2020-09-25T12:25:18.944376Z"
    }
   },
   "outputs": [
    {
     "name": "stdout",
     "output_type": "stream",
     "text": [
      "Memory activity attacks count rebalanced training: 205623\n",
      "Memory activity Non-attacks count rebalanced training: 411246\n",
      "Memory activity Total count rebalanced training: 616869\n"
     ]
    },
    {
     "data": {
      "text/plain": [
       "StorageLevel(True, True, False, True, 1)"
      ]
     },
     "execution_count": 128,
     "metadata": {},
     "output_type": "execute_result"
    }
   ],
   "source": [
    "full_train_mem1, full_train_mem0, full_rebal_train_mem = rebalance_function(mem_df)\n",
    "print('Memory activity attacks count rebalanced training:',full_train_mem1.count())\n",
    "print('Memory activity Non-attacks count rebalanced training:',full_train_mem0.count())\n",
    "print('Memory activity Total count rebalanced training:',full_rebal_train_mem.count())\n",
    "full_rebal_train_mem.storageLevel # Validating that data is cached"
   ]
  },
  {
   "cell_type": "code",
   "execution_count": 142,
   "metadata": {
    "ExecuteTime": {
     "end_time": "2020-09-25T14:13:54.226745Z",
     "start_time": "2020-09-25T14:13:54.209909Z"
    }
   },
   "outputs": [
    {
     "name": "stdout",
     "output_type": "stream",
     "text": [
      "{\n",
      "\tGBTClassifier_e6daaf68d28b-featuresCol: features,\n",
      "\tGBTClassifier_e6daaf68d28b-labelCol: attack,\n",
      "\tGBTClassifier_e6daaf68d28b-maxDepth: 10,\n",
      "\tGBTClassifier_e6daaf68d28b-maxIter: 20\n",
      "}\n"
     ]
    }
   ],
   "source": [
    "print(bestModel2.stages[-1]._java_obj.paramMap())"
   ]
  },
  {
   "cell_type": "code",
   "execution_count": 145,
   "metadata": {
    "ExecuteTime": {
     "end_time": "2020-09-25T14:58:49.765743Z",
     "start_time": "2020-09-25T14:50:05.307930Z"
    }
   },
   "outputs": [],
   "source": [
    "gbt2 = GBTClassifier(featuresCol=\"features\", labelCol=\"attack\", maxIter=20, maxDepth=10)\n",
    "pipeline_mem_gbt2 = Pipeline(stages=[assembler_mem, gbt2])\n",
    "\n",
    "model_mem_gbt = pipeline_mem_gbt2.fit(full_rebal_train_mem)"
   ]
  },
  {
   "cell_type": "code",
   "execution_count": 146,
   "metadata": {
    "ExecuteTime": {
     "end_time": "2020-09-25T15:18:36.904384Z",
     "start_time": "2020-09-25T15:18:32.627911Z"
    }
   },
   "outputs": [],
   "source": [
    "#Saves the model to the filesystem\n",
    "model_mem_gbt.save('memory_model')\n",
    "\n",
    "## Loading the Pipeline Model From the filesystem\n",
    "# from pyspark.ml import PipelineModel\n",
    "# model_mem_gbt_load = PipelineModel.load('memory_model')"
   ]
  },
  {
   "cell_type": "markdown",
   "metadata": {},
   "source": [
    "**Process activity**"
   ]
  },
  {
   "cell_type": "code",
   "execution_count": 133,
   "metadata": {
    "ExecuteTime": {
     "end_time": "2020-09-25T13:37:06.742680Z",
     "start_time": "2020-09-25T13:36:48.344855Z"
    }
   },
   "outputs": [
    {
     "name": "stdout",
     "output_type": "stream",
     "text": [
      "Process activity attacks count rebalanced training: 291364\n",
      "Process activity Non-attacks count rebalanced training: 582728\n",
      "Process activity Total count rebalanced training: 874092\n"
     ]
    },
    {
     "data": {
      "text/plain": [
       "StorageLevel(True, True, False, True, 1)"
      ]
     },
     "execution_count": 133,
     "metadata": {},
     "output_type": "execute_result"
    }
   ],
   "source": [
    "full_train_proc1, full_train_proc0, full_rebal_train_proc = rebalance_function(proc_df)\n",
    "print('Process activity attacks count rebalanced training:',full_train_proc1.count())\n",
    "print('Process activity Non-attacks count rebalanced training:',full_train_proc0.count())\n",
    "print('Process activity Total count rebalanced training:',full_rebal_train_proc.count())\n",
    "full_rebal_train_proc.storageLevel # Validating that data is cached"
   ]
  },
  {
   "cell_type": "code",
   "execution_count": 149,
   "metadata": {
    "ExecuteTime": {
     "end_time": "2020-09-26T00:53:51.139656Z",
     "start_time": "2020-09-26T00:53:51.133571Z"
    }
   },
   "outputs": [
    {
     "name": "stdout",
     "output_type": "stream",
     "text": [
      "{\n",
      "\tGBTClassifier_703b6144bbc9-featuresCol: features,\n",
      "\tGBTClassifier_703b6144bbc9-labelCol: attack,\n",
      "\tGBTClassifier_703b6144bbc9-maxBins: 40,\n",
      "\tGBTClassifier_703b6144bbc9-maxDepth: 9,\n",
      "\tGBTClassifier_703b6144bbc9-maxIter: 15\n",
      "}\n"
     ]
    }
   ],
   "source": [
    "print(bestModel4.stages[-1]._java_obj.paramMap())"
   ]
  },
  {
   "cell_type": "code",
   "execution_count": 150,
   "metadata": {
    "ExecuteTime": {
     "end_time": "2020-09-26T00:59:22.389631Z",
     "start_time": "2020-09-26T00:56:57.604609Z"
    }
   },
   "outputs": [],
   "source": [
    "gbt4 = GBTClassifier(featuresCol=\"features\", labelCol=\"attack\", maxIter=15, maxDepth=9, maxBins=40)\n",
    "pipeline_proc_gbt4 = Pipeline(stages=[indexer_proc, ohe_proc, assembler_proc, gbt4])\n",
    "\n",
    "model_proc_gbt = pipeline_proc_gbt4.fit(full_rebal_train_proc)"
   ]
  },
  {
   "cell_type": "code",
   "execution_count": 151,
   "metadata": {
    "ExecuteTime": {
     "end_time": "2020-09-26T01:47:13.541705Z",
     "start_time": "2020-09-26T01:47:11.115757Z"
    }
   },
   "outputs": [],
   "source": [
    "#Saves the model to the filesystem\n",
    "model_proc_gbt.save('process_model')\n",
    "\n",
    "## Loading the Pipeline Model From the filesystem\n",
    "# from pyspark.ml import PipelineModel\n",
    "# model_proc_gbt_load = PipelineModel.load('process_model')"
   ]
  }
 ],
 "metadata": {
  "kernelspec": {
   "display_name": "Python 3",
   "language": "python",
   "name": "python3"
  },
  "language_info": {
   "codemirror_mode": {
    "name": "ipython",
    "version": 3
   },
   "file_extension": ".py",
   "mimetype": "text/x-python",
   "name": "python",
   "nbconvert_exporter": "python",
   "pygments_lexer": "ipython3",
   "version": "3.7.1"
  },
  "toc": {
   "base_numbering": 1,
   "nav_menu": {},
   "number_sections": true,
   "sideBar": true,
   "skip_h1_title": false,
   "title_cell": "Table of Contents",
   "title_sidebar": "Contents",
   "toc_cell": false,
   "toc_position": {},
   "toc_section_display": true,
   "toc_window_display": true
  }
 },
 "nbformat": 4,
 "nbformat_minor": 4
}
