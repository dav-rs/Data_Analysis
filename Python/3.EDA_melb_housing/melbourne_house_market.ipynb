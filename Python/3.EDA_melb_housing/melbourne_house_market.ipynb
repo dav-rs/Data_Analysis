{
 "cells": [
  {
   "cell_type": "markdown",
   "metadata": {},
   "source": [
    "## Exploratory Data Analysis - Melbourne Housing Market\n",
    "\n",
    "In the following section we will have a look at the Housing market in Melbourne. The information consists of a dataset with over 60,000 rows and 13 columns, where the most relevant for our study are the property type, price, number of rooms, postcode and date. \n",
    "\n",
    "Our analysis will start with a general approach and then we will focus in some specific part of the market, in this particular case the 2 bedroom townhouses and units, as they represent a big portion of the complete housing market in Melbourne. \n",
    "\n",
    "Please refer to the link below in order to access the dataset implemented for this study (MELBOURNE_HOUSE_PRICES_LESS.csv)\n",
    "\n",
    "Pino, T. (2018). Melbourne Housing Market. Retrieved from \n",
    "https://www.kaggle.com/anthonypino/melbourne-housing-market/downloads/melbourne-housing-market.zip/27#Melbourne_housing_FULL.csv"
   ]
  },
  {
   "cell_type": "code",
   "execution_count": 1,
   "metadata": {
    "ExecuteTime": {
     "end_time": "2020-12-03T01:33:25.080263Z",
     "start_time": "2020-12-03T01:33:23.575377Z"
    }
   },
   "outputs": [],
   "source": [
    "import pandas as pd\n",
    "import matplotlib.pyplot as plt\n",
    "import numpy as np"
   ]
  },
  {
   "cell_type": "markdown",
   "metadata": {},
   "source": [
    "First of all, start reading the dataset and having an initial look to the first rows of it"
   ]
  },
  {
   "cell_type": "code",
   "execution_count": 2,
   "metadata": {
    "ExecuteTime": {
     "end_time": "2020-12-03T01:34:11.541603Z",
     "start_time": "2020-12-03T01:34:11.281777Z"
    }
   },
   "outputs": [
    {
     "data": {
      "text/html": [
       "<div>\n",
       "<style scoped>\n",
       "    .dataframe tbody tr th:only-of-type {\n",
       "        vertical-align: middle;\n",
       "    }\n",
       "\n",
       "    .dataframe tbody tr th {\n",
       "        vertical-align: top;\n",
       "    }\n",
       "\n",
       "    .dataframe thead th {\n",
       "        text-align: right;\n",
       "    }\n",
       "</style>\n",
       "<table border=\"1\" class=\"dataframe\">\n",
       "  <thead>\n",
       "    <tr style=\"text-align: right;\">\n",
       "      <th></th>\n",
       "      <th>Suburb</th>\n",
       "      <th>Address</th>\n",
       "      <th>Rooms</th>\n",
       "      <th>Type</th>\n",
       "      <th>Price</th>\n",
       "      <th>Method</th>\n",
       "      <th>SellerG</th>\n",
       "      <th>Date</th>\n",
       "      <th>Postcode</th>\n",
       "      <th>Regionname</th>\n",
       "      <th>Propertycount</th>\n",
       "      <th>Distance</th>\n",
       "      <th>CouncilArea</th>\n",
       "    </tr>\n",
       "  </thead>\n",
       "  <tbody>\n",
       "    <tr>\n",
       "      <th>0</th>\n",
       "      <td>Abbotsford</td>\n",
       "      <td>49 Lithgow St</td>\n",
       "      <td>3</td>\n",
       "      <td>h</td>\n",
       "      <td>1,490,000.00</td>\n",
       "      <td>S</td>\n",
       "      <td>Jellis</td>\n",
       "      <td>1/04/2017</td>\n",
       "      <td>3067</td>\n",
       "      <td>Northern Metropolitan</td>\n",
       "      <td>4019</td>\n",
       "      <td>3.00</td>\n",
       "      <td>Yarra City Council</td>\n",
       "    </tr>\n",
       "    <tr>\n",
       "      <th>1</th>\n",
       "      <td>Abbotsford</td>\n",
       "      <td>59A Turner St</td>\n",
       "      <td>3</td>\n",
       "      <td>h</td>\n",
       "      <td>1,220,000.00</td>\n",
       "      <td>S</td>\n",
       "      <td>Marshall</td>\n",
       "      <td>1/04/2017</td>\n",
       "      <td>3067</td>\n",
       "      <td>Northern Metropolitan</td>\n",
       "      <td>4019</td>\n",
       "      <td>3.00</td>\n",
       "      <td>Yarra City Council</td>\n",
       "    </tr>\n",
       "    <tr>\n",
       "      <th>2</th>\n",
       "      <td>Abbotsford</td>\n",
       "      <td>119B Yarra St</td>\n",
       "      <td>3</td>\n",
       "      <td>h</td>\n",
       "      <td>1,420,000.00</td>\n",
       "      <td>S</td>\n",
       "      <td>Nelson</td>\n",
       "      <td>1/04/2017</td>\n",
       "      <td>3067</td>\n",
       "      <td>Northern Metropolitan</td>\n",
       "      <td>4019</td>\n",
       "      <td>3.00</td>\n",
       "      <td>Yarra City Council</td>\n",
       "    </tr>\n",
       "    <tr>\n",
       "      <th>3</th>\n",
       "      <td>Aberfeldie</td>\n",
       "      <td>68 Vida St</td>\n",
       "      <td>3</td>\n",
       "      <td>h</td>\n",
       "      <td>1,515,000.00</td>\n",
       "      <td>S</td>\n",
       "      <td>Barry</td>\n",
       "      <td>1/04/2017</td>\n",
       "      <td>3040</td>\n",
       "      <td>Western Metropolitan</td>\n",
       "      <td>1543</td>\n",
       "      <td>7.50</td>\n",
       "      <td>Moonee Valley City Council</td>\n",
       "    </tr>\n",
       "    <tr>\n",
       "      <th>4</th>\n",
       "      <td>Airport West</td>\n",
       "      <td>92 Clydesdale Rd</td>\n",
       "      <td>2</td>\n",
       "      <td>h</td>\n",
       "      <td>670,000.00</td>\n",
       "      <td>S</td>\n",
       "      <td>Nelson</td>\n",
       "      <td>1/04/2017</td>\n",
       "      <td>3042</td>\n",
       "      <td>Western Metropolitan</td>\n",
       "      <td>3464</td>\n",
       "      <td>10.40</td>\n",
       "      <td>Moonee Valley City Council</td>\n",
       "    </tr>\n",
       "  </tbody>\n",
       "</table>\n",
       "</div>"
      ],
      "text/plain": [
       "         Suburb           Address  Rooms Type                Price Method  \\\n",
       "0    Abbotsford     49 Lithgow St      3    h         1,490,000.00      S   \n",
       "1    Abbotsford     59A Turner St      3    h         1,220,000.00      S   \n",
       "2    Abbotsford     119B Yarra St      3    h         1,420,000.00      S   \n",
       "3    Aberfeldie        68 Vida St      3    h         1,515,000.00      S   \n",
       "4  Airport West  92 Clydesdale Rd      2    h           670,000.00      S   \n",
       "\n",
       "    SellerG       Date  Postcode             Regionname  Propertycount  \\\n",
       "0    Jellis  1/04/2017      3067  Northern Metropolitan           4019   \n",
       "1  Marshall  1/04/2017      3067  Northern Metropolitan           4019   \n",
       "2    Nelson  1/04/2017      3067  Northern Metropolitan           4019   \n",
       "3     Barry  1/04/2017      3040   Western Metropolitan           1543   \n",
       "4    Nelson  1/04/2017      3042   Western Metropolitan           3464   \n",
       "\n",
       "              Distance                 CouncilArea  \n",
       "0                 3.00          Yarra City Council  \n",
       "1                 3.00          Yarra City Council  \n",
       "2                 3.00          Yarra City Council  \n",
       "3                 7.50  Moonee Valley City Council  \n",
       "4                10.40  Moonee Valley City Council  "
      ]
     },
     "execution_count": 2,
     "metadata": {},
     "output_type": "execute_result"
    }
   ],
   "source": [
    "# read the complete Melbourne Housing Market file\n",
    "vicrs_df = pd.read_csv('0.MELBOURNE_HOUSE_PRICES_LESS.csv')\n",
    "\n",
    "# Modify displaying format of floats\n",
    "pd.options.display.float_format = '{:20,.2f}'.format\n",
    "\n",
    "vicrs_df.head()"
   ]
  },
  {
   "cell_type": "code",
   "execution_count": 3,
   "metadata": {
    "ExecuteTime": {
     "end_time": "2020-12-03T01:36:30.101121Z",
     "start_time": "2020-12-03T01:36:30.079272Z"
    }
   },
   "outputs": [
    {
     "data": {
      "text/plain": [
       "997898.2414882415"
      ]
     },
     "execution_count": 3,
     "metadata": {},
     "output_type": "execute_result"
    }
   ],
   "source": [
    "# Remove properties with price 0\n",
    "filt = (vicrs_df.Price > 1)\n",
    "vicrs_df = vicrs_df[filt]\n",
    "vicrs_df['Price'].mean()"
   ]
  },
  {
   "cell_type": "markdown",
   "metadata": {},
   "source": [
    "### Check the average price for the different Types of properties in the dataset"
   ]
  },
  {
   "cell_type": "code",
   "execution_count": 5,
   "metadata": {
    "ExecuteTime": {
     "end_time": "2020-12-03T01:37:02.637981Z",
     "start_time": "2020-12-03T01:37:02.614606Z"
    }
   },
   "outputs": [
    {
     "data": {
      "text/html": [
       "<div>\n",
       "<style scoped>\n",
       "    .dataframe tbody tr th:only-of-type {\n",
       "        vertical-align: middle;\n",
       "    }\n",
       "\n",
       "    .dataframe tbody tr th {\n",
       "        vertical-align: top;\n",
       "    }\n",
       "\n",
       "    .dataframe thead th {\n",
       "        text-align: right;\n",
       "    }\n",
       "</style>\n",
       "<table border=\"1\" class=\"dataframe\">\n",
       "  <thead>\n",
       "    <tr style=\"text-align: right;\">\n",
       "      <th></th>\n",
       "      <th>Type</th>\n",
       "      <th>Price</th>\n",
       "    </tr>\n",
       "  </thead>\n",
       "  <tbody>\n",
       "    <tr>\n",
       "      <th>0</th>\n",
       "      <td>h</td>\n",
       "      <td>1,110,586.65</td>\n",
       "    </tr>\n",
       "    <tr>\n",
       "      <th>1</th>\n",
       "      <td>t</td>\n",
       "      <td>911,147.98</td>\n",
       "    </tr>\n",
       "    <tr>\n",
       "      <th>2</th>\n",
       "      <td>u</td>\n",
       "      <td>630,105.27</td>\n",
       "    </tr>\n",
       "  </tbody>\n",
       "</table>\n",
       "</div>"
      ],
      "text/plain": [
       "  Type                Price\n",
       "0    h         1,110,586.65\n",
       "1    t           911,147.98\n",
       "2    u           630,105.27"
      ]
     },
     "execution_count": 5,
     "metadata": {},
     "output_type": "execute_result"
    }
   ],
   "source": [
    "# Group by propertyType and see the average price\n",
    "prop_type = {'Price':{'avg price':'mean'}}\n",
    "groupby_prType = vicrs_df.groupby(['Type']).agg(prop_type)\n",
    "groupby_prType = groupby_prType.reset_index()\n",
    "groupby_prType.columns = groupby_prType.columns.droplevel(1)\n",
    "groupby_prType"
   ]
  },
  {
   "cell_type": "code",
   "execution_count": 6,
   "metadata": {
    "ExecuteTime": {
     "end_time": "2020-12-03T01:37:20.897514Z",
     "start_time": "2020-12-03T01:37:20.688868Z"
    }
   },
   "outputs": [
    {
     "data": {
      "image/png": "[encoded data removed]",
      "text/plain": [
       "<Figure size 432x288 with 1 Axes>"
      ]
     },
     "metadata": {
      "needs_background": "light"
     },
     "output_type": "display_data"
    }
   ],
   "source": [
    "groupby_prType.plot(kind='bar', x = 'Type', y='Price', legend=False)\n",
    "plt.title('Average Price per Property Type Melbourne')\n",
    "plt.ylabel('Price')\n",
    "plt.show()"
   ]
  },
  {
   "cell_type": "markdown",
   "metadata": {},
   "source": [
    "In the above graph, we can see the different average prices per Property Type, in this case h refers to House, t corresponds to Town house, and u is Unit."
   ]
  },
  {
   "cell_type": "markdown",
   "metadata": {},
   "source": [
    "### Check the average price for the different number of bedrooms"
   ]
  },
  {
   "cell_type": "code",
   "execution_count": 7,
   "metadata": {
    "ExecuteTime": {
     "end_time": "2020-12-03T01:37:59.433965Z",
     "start_time": "2020-12-03T01:37:59.412301Z"
    }
   },
   "outputs": [
    {
     "data": {
      "text/html": [
       "<div>\n",
       "<style scoped>\n",
       "    .dataframe tbody tr th:only-of-type {\n",
       "        vertical-align: middle;\n",
       "    }\n",
       "\n",
       "    .dataframe tbody tr th {\n",
       "        vertical-align: top;\n",
       "    }\n",
       "\n",
       "    .dataframe thead th {\n",
       "        text-align: right;\n",
       "    }\n",
       "</style>\n",
       "<table border=\"1\" class=\"dataframe\">\n",
       "  <thead>\n",
       "    <tr style=\"text-align: right;\">\n",
       "      <th></th>\n",
       "      <th>Rooms</th>\n",
       "      <th>Price</th>\n",
       "    </tr>\n",
       "  </thead>\n",
       "  <tbody>\n",
       "    <tr>\n",
       "      <th>0</th>\n",
       "      <td>1</td>\n",
       "      <td>433,225.65</td>\n",
       "    </tr>\n",
       "    <tr>\n",
       "      <th>1</th>\n",
       "      <td>2</td>\n",
       "      <td>746,092.61</td>\n",
       "    </tr>\n",
       "    <tr>\n",
       "      <th>2</th>\n",
       "      <td>3</td>\n",
       "      <td>958,527.99</td>\n",
       "    </tr>\n",
       "    <tr>\n",
       "      <th>3</th>\n",
       "      <td>4</td>\n",
       "      <td>1,236,714.83</td>\n",
       "    </tr>\n",
       "    <tr>\n",
       "      <th>4</th>\n",
       "      <td>5</td>\n",
       "      <td>1,627,292.13</td>\n",
       "    </tr>\n",
       "    <tr>\n",
       "      <th>5</th>\n",
       "      <td>6</td>\n",
       "      <td>1,668,343.11</td>\n",
       "    </tr>\n",
       "    <tr>\n",
       "      <th>6</th>\n",
       "      <td>7</td>\n",
       "      <td>1,628,479.17</td>\n",
       "    </tr>\n",
       "    <tr>\n",
       "      <th>7</th>\n",
       "      <td>8</td>\n",
       "      <td>1,634,211.37</td>\n",
       "    </tr>\n",
       "    <tr>\n",
       "      <th>8</th>\n",
       "      <td>9</td>\n",
       "      <td>1,190,000.00</td>\n",
       "    </tr>\n",
       "    <tr>\n",
       "      <th>9</th>\n",
       "      <td>10</td>\n",
       "      <td>2,781,666.67</td>\n",
       "    </tr>\n",
       "    <tr>\n",
       "      <th>10</th>\n",
       "      <td>11</td>\n",
       "      <td>3,880,000.00</td>\n",
       "    </tr>\n",
       "    <tr>\n",
       "      <th>11</th>\n",
       "      <td>12</td>\n",
       "      <td>2,705,000.00</td>\n",
       "    </tr>\n",
       "    <tr>\n",
       "      <th>12</th>\n",
       "      <td>16</td>\n",
       "      <td>5,000,000.00</td>\n",
       "    </tr>\n",
       "    <tr>\n",
       "      <th>13</th>\n",
       "      <td>31</td>\n",
       "      <td>990,000.00</td>\n",
       "    </tr>\n",
       "  </tbody>\n",
       "</table>\n",
       "</div>"
      ],
      "text/plain": [
       "    Rooms                Price\n",
       "0       1           433,225.65\n",
       "1       2           746,092.61\n",
       "2       3           958,527.99\n",
       "3       4         1,236,714.83\n",
       "4       5         1,627,292.13\n",
       "5       6         1,668,343.11\n",
       "6       7         1,628,479.17\n",
       "7       8         1,634,211.37\n",
       "8       9         1,190,000.00\n",
       "9      10         2,781,666.67\n",
       "10     11         3,880,000.00\n",
       "11     12         2,705,000.00\n",
       "12     16         5,000,000.00\n",
       "13     31           990,000.00"
      ]
     },
     "execution_count": 7,
     "metadata": {},
     "output_type": "execute_result"
    }
   ],
   "source": [
    "# Group by num bedrooms, see the average price\n",
    "bed_num = {'Price':{'avg price':'mean'}}\n",
    "groupby_bed = vicrs_df.groupby('Rooms').agg(bed_num)\n",
    "groupby_bed = groupby_bed.reset_index()\n",
    "groupby_bed.columns = groupby_bed.columns.droplevel(1)\n",
    "groupby_bed"
   ]
  },
  {
   "cell_type": "code",
   "execution_count": 8,
   "metadata": {
    "ExecuteTime": {
     "end_time": "2020-12-03T01:38:29.599288Z",
     "start_time": "2020-12-03T01:38:29.391719Z"
    }
   },
   "outputs": [
    {
     "data": {
      "image/png": "[encoded data removed]",
      "text/plain": [
       "<Figure size 432x288 with 1 Axes>"
      ]
     },
     "metadata": {
      "needs_background": "light"
     },
     "output_type": "display_data"
    }
   ],
   "source": [
    "groupby_bed.plot(kind='bar', x = 'Rooms', y='Price', legend=False)\n",
    "plt.title('Average Price per Number of bedrooms - Melbourne')\n",
    "plt.ylabel('Price')\n",
    "plt.show()"
   ]
  },
  {
   "cell_type": "markdown",
   "metadata": {},
   "source": [
    "The average price per number of bedrooms is displayed in the above graph, however, there are many bars in the plot and we would prefer to focus our analysis in cases with at most 6 bedrooms."
   ]
  },
  {
   "cell_type": "code",
   "execution_count": 9,
   "metadata": {
    "ExecuteTime": {
     "end_time": "2020-12-03T01:40:22.259959Z",
     "start_time": "2020-12-03T01:40:22.059359Z"
    }
   },
   "outputs": [
    {
     "data": {
      "image/png": "[encoded data removed]",
      "text/plain": [
       "<Figure size 432x288 with 1 Axes>"
      ]
     },
     "metadata": {
      "needs_background": "light"
     },
     "output_type": "display_data"
    }
   ],
   "source": [
    "# Remove over 6 bedrooms and see new graph\n",
    "filt= ~((groupby_bed['Rooms']>6))\n",
    "groupby_bed=groupby_bed[filt]\n",
    "groupby_bed.plot(kind='bar', x = 'Rooms', y='Price', legend=False)\n",
    "plt.title('Average Price per Number of bedrooms - Melbourne')\n",
    "plt.ylabel('Price')\n",
    "plt.show()"
   ]
  },
  {
   "cell_type": "markdown",
   "metadata": {},
   "source": [
    "### Focus on 2 bedroom units. Check the average price for them according to different property types"
   ]
  },
  {
   "cell_type": "code",
   "execution_count": 10,
   "metadata": {
    "ExecuteTime": {
     "end_time": "2020-12-03T01:40:39.440281Z",
     "start_time": "2020-12-03T01:40:39.411509Z"
    }
   },
   "outputs": [
    {
     "data": {
      "text/html": [
       "<div>\n",
       "<style scoped>\n",
       "    .dataframe tbody tr th:only-of-type {\n",
       "        vertical-align: middle;\n",
       "    }\n",
       "\n",
       "    .dataframe tbody tr th {\n",
       "        vertical-align: top;\n",
       "    }\n",
       "\n",
       "    .dataframe thead th {\n",
       "        text-align: right;\n",
       "    }\n",
       "</style>\n",
       "<table border=\"1\" class=\"dataframe\">\n",
       "  <thead>\n",
       "    <tr style=\"text-align: right;\">\n",
       "      <th></th>\n",
       "      <th>Type</th>\n",
       "      <th>Rooms</th>\n",
       "      <th>Price</th>\n",
       "    </tr>\n",
       "  </thead>\n",
       "  <tbody>\n",
       "    <tr>\n",
       "      <th>1</th>\n",
       "      <td>h</td>\n",
       "      <td>2</td>\n",
       "      <td>975,574.48</td>\n",
       "    </tr>\n",
       "    <tr>\n",
       "      <th>15</th>\n",
       "      <td>t</td>\n",
       "      <td>2</td>\n",
       "      <td>684,993.10</td>\n",
       "    </tr>\n",
       "    <tr>\n",
       "      <th>20</th>\n",
       "      <td>u</td>\n",
       "      <td>2</td>\n",
       "      <td>617,235.02</td>\n",
       "    </tr>\n",
       "  </tbody>\n",
       "</table>\n",
       "</div>"
      ],
      "text/plain": [
       "   Type  Rooms                Price\n",
       "1     h      2           975,574.48\n",
       "15    t      2           684,993.10\n",
       "20    u      2           617,235.02"
      ]
     },
     "execution_count": 10,
     "metadata": {},
     "output_type": "execute_result"
    }
   ],
   "source": [
    "groupby_prType = vicrs_df.groupby(['Type','Rooms']).agg(prop_type)\n",
    "groupby_prType = groupby_prType.reset_index()\n",
    "groupby_prType.columns = groupby_prType.columns.droplevel(1)\n",
    "\n",
    "filt = (groupby_prType.Rooms == 2)\n",
    "groupby_prType2 = groupby_prType[filt]\n",
    "groupby_prType2"
   ]
  },
  {
   "cell_type": "code",
   "execution_count": 11,
   "metadata": {
    "ExecuteTime": {
     "end_time": "2020-12-03T01:40:47.762879Z",
     "start_time": "2020-12-03T01:40:47.598720Z"
    }
   },
   "outputs": [
    {
     "data": {
      "image/png": "[encoded data removed]",
      "text/plain": [
       "<Figure size 432x288 with 1 Axes>"
      ]
     },
     "metadata": {
      "needs_background": "light"
     },
     "output_type": "display_data"
    }
   ],
   "source": [
    "groupby_prType2.plot(kind='bar', x = 'Type', y='Price', legend=False)\n",
    "plt.title('Average Price per Type of Property for 2 bedrooms - Melbourne')\n",
    "plt.ylabel('Price')\n",
    "plt.show()"
   ]
  },
  {
   "cell_type": "markdown",
   "metadata": {},
   "source": [
    "### Get the average per region in 2 bedroom units or townhouses and show the top 10 most expensive regions in Melbourne"
   ]
  },
  {
   "cell_type": "code",
   "execution_count": 12,
   "metadata": {
    "ExecuteTime": {
     "end_time": "2020-12-03T01:41:04.451571Z",
     "start_time": "2020-12-03T01:41:04.407589Z"
    }
   },
   "outputs": [
    {
     "data": {
      "text/html": [
       "<div>\n",
       "<style scoped>\n",
       "    .dataframe tbody tr th:only-of-type {\n",
       "        vertical-align: middle;\n",
       "    }\n",
       "\n",
       "    .dataframe tbody tr th {\n",
       "        vertical-align: top;\n",
       "    }\n",
       "\n",
       "    .dataframe thead th {\n",
       "        text-align: right;\n",
       "    }\n",
       "</style>\n",
       "<table border=\"1\" class=\"dataframe\">\n",
       "  <thead>\n",
       "    <tr style=\"text-align: right;\">\n",
       "      <th></th>\n",
       "      <th>Postcode</th>\n",
       "      <th>Rooms</th>\n",
       "      <th>Price</th>\n",
       "    </tr>\n",
       "  </thead>\n",
       "  <tbody>\n",
       "    <tr>\n",
       "      <th>1</th>\n",
       "      <td>3002</td>\n",
       "      <td>2</td>\n",
       "      <td>1,129,603.53</td>\n",
       "    </tr>\n",
       "    <tr>\n",
       "      <th>152</th>\n",
       "      <td>3206</td>\n",
       "      <td>2</td>\n",
       "      <td>974,500.00</td>\n",
       "    </tr>\n",
       "    <tr>\n",
       "      <th>102</th>\n",
       "      <td>3144</td>\n",
       "      <td>2</td>\n",
       "      <td>962,047.62</td>\n",
       "    </tr>\n",
       "    <tr>\n",
       "      <th>134</th>\n",
       "      <td>3186</td>\n",
       "      <td>2</td>\n",
       "      <td>934,310.76</td>\n",
       "    </tr>\n",
       "    <tr>\n",
       "      <th>153</th>\n",
       "      <td>3207</td>\n",
       "      <td>2</td>\n",
       "      <td>892,665.25</td>\n",
       "    </tr>\n",
       "    <tr>\n",
       "      <th>100</th>\n",
       "      <td>3142</td>\n",
       "      <td>2</td>\n",
       "      <td>861,320.51</td>\n",
       "    </tr>\n",
       "    <tr>\n",
       "      <th>48</th>\n",
       "      <td>3065</td>\n",
       "      <td>2</td>\n",
       "      <td>833,261.90</td>\n",
       "    </tr>\n",
       "    <tr>\n",
       "      <th>135</th>\n",
       "      <td>3187</td>\n",
       "      <td>2</td>\n",
       "      <td>830,161.76</td>\n",
       "    </tr>\n",
       "    <tr>\n",
       "      <th>87</th>\n",
       "      <td>3126</td>\n",
       "      <td>2</td>\n",
       "      <td>808,770.83</td>\n",
       "    </tr>\n",
       "    <tr>\n",
       "      <th>99</th>\n",
       "      <td>3141</td>\n",
       "      <td>2</td>\n",
       "      <td>800,458.77</td>\n",
       "    </tr>\n",
       "  </tbody>\n",
       "</table>\n",
       "</div>"
      ],
      "text/plain": [
       "     Postcode  Rooms                Price\n",
       "1        3002      2         1,129,603.53\n",
       "152      3206      2           974,500.00\n",
       "102      3144      2           962,047.62\n",
       "134      3186      2           934,310.76\n",
       "153      3207      2           892,665.25\n",
       "100      3142      2           861,320.51\n",
       "48       3065      2           833,261.90\n",
       "135      3187      2           830,161.76\n",
       "87       3126      2           808,770.83\n",
       "99       3141      2           800,458.77"
      ]
     },
     "execution_count": 12,
     "metadata": {},
     "output_type": "execute_result"
    }
   ],
   "source": [
    "filt = (vicrs_df.Rooms == 2) & (vicrs_df.Type != 'h')\n",
    "groupby_postcode = vicrs_df[filt]\n",
    "\n",
    "post_gr = {'Price':{'avg price':'mean'}}\n",
    "groupby_postcode = groupby_postcode.groupby(['Postcode','Rooms']).agg(post_gr)\n",
    "groupby_postcode = groupby_postcode.reset_index()\n",
    "groupby_postcode.columns = groupby_postcode.columns.droplevel(1)\n",
    "\n",
    "larg_pricedf = groupby_postcode.nlargest(10,'Price')\n",
    "larg_pricedf"
   ]
  },
  {
   "cell_type": "code",
   "execution_count": 13,
   "metadata": {
    "ExecuteTime": {
     "end_time": "2020-12-03T01:41:23.275435Z",
     "start_time": "2020-12-03T01:41:23.039289Z"
    }
   },
   "outputs": [
    {
     "data": {
      "image/png": "[encoded data removed]",
      "text/plain": [
       "<Figure size 432x288 with 1 Axes>"
      ]
     },
     "metadata": {
      "needs_background": "light"
     },
     "output_type": "display_data"
    }
   ],
   "source": [
    "larg_pricedf.plot(kind='bar', x = 'Postcode', y='Price', legend=False)\n",
    "plt.title('Most expensive postcodes for 2 bedroom Townhouse or unit - Melbourne')\n",
    "plt.ylabel('Avg Price')\n",
    "plt.show()"
   ]
  },
  {
   "cell_type": "markdown",
   "metadata": {},
   "source": [
    "The above graphic shows the most expensive areas by postcode for 2 bedroom Townhouse or Unit"
   ]
  },
  {
   "cell_type": "code",
   "execution_count": 14,
   "metadata": {
    "ExecuteTime": {
     "end_time": "2020-12-03T01:41:57.648500Z",
     "start_time": "2020-12-03T01:41:57.635677Z"
    }
   },
   "outputs": [
    {
     "data": {
      "text/html": [
       "<div>\n",
       "<style scoped>\n",
       "    .dataframe tbody tr th:only-of-type {\n",
       "        vertical-align: middle;\n",
       "    }\n",
       "\n",
       "    .dataframe tbody tr th {\n",
       "        vertical-align: top;\n",
       "    }\n",
       "\n",
       "    .dataframe thead th {\n",
       "        text-align: right;\n",
       "    }\n",
       "</style>\n",
       "<table border=\"1\" class=\"dataframe\">\n",
       "  <thead>\n",
       "    <tr style=\"text-align: right;\">\n",
       "      <th></th>\n",
       "      <th>Postcode</th>\n",
       "      <th>Rooms</th>\n",
       "      <th>Price</th>\n",
       "    </tr>\n",
       "  </thead>\n",
       "  <tbody>\n",
       "    <tr>\n",
       "      <th>158</th>\n",
       "      <td>3754</td>\n",
       "      <td>2</td>\n",
       "      <td>273,000.00</td>\n",
       "    </tr>\n",
       "    <tr>\n",
       "      <th>154</th>\n",
       "      <td>3338</td>\n",
       "      <td>2</td>\n",
       "      <td>294,285.71</td>\n",
       "    </tr>\n",
       "    <tr>\n",
       "      <th>160</th>\n",
       "      <td>3976</td>\n",
       "      <td>2</td>\n",
       "      <td>325,000.00</td>\n",
       "    </tr>\n",
       "    <tr>\n",
       "      <th>161</th>\n",
       "      <td>3977</td>\n",
       "      <td>2</td>\n",
       "      <td>326,500.00</td>\n",
       "    </tr>\n",
       "    <tr>\n",
       "      <th>46</th>\n",
       "      <td>3061</td>\n",
       "      <td>2</td>\n",
       "      <td>340,000.00</td>\n",
       "    </tr>\n",
       "    <tr>\n",
       "      <th>34</th>\n",
       "      <td>3048</td>\n",
       "      <td>2</td>\n",
       "      <td>348,250.00</td>\n",
       "    </tr>\n",
       "    <tr>\n",
       "      <th>47</th>\n",
       "      <td>3064</td>\n",
       "      <td>2</td>\n",
       "      <td>352,184.21</td>\n",
       "    </tr>\n",
       "    <tr>\n",
       "      <th>19</th>\n",
       "      <td>3030</td>\n",
       "      <td>2</td>\n",
       "      <td>354,357.14</td>\n",
       "    </tr>\n",
       "    <tr>\n",
       "      <th>44</th>\n",
       "      <td>3059</td>\n",
       "      <td>2</td>\n",
       "      <td>365,000.00</td>\n",
       "    </tr>\n",
       "    <tr>\n",
       "      <th>127</th>\n",
       "      <td>3175</td>\n",
       "      <td>2</td>\n",
       "      <td>370,382.76</td>\n",
       "    </tr>\n",
       "  </tbody>\n",
       "</table>\n",
       "</div>"
      ],
      "text/plain": [
       "     Postcode  Rooms                Price\n",
       "158      3754      2           273,000.00\n",
       "154      3338      2           294,285.71\n",
       "160      3976      2           325,000.00\n",
       "161      3977      2           326,500.00\n",
       "46       3061      2           340,000.00\n",
       "34       3048      2           348,250.00\n",
       "47       3064      2           352,184.21\n",
       "19       3030      2           354,357.14\n",
       "44       3059      2           365,000.00\n",
       "127      3175      2           370,382.76"
      ]
     },
     "execution_count": 14,
     "metadata": {},
     "output_type": "execute_result"
    }
   ],
   "source": [
    "# Get the average per region in 2 bedroom units or townhouses and show the top 10 cheapest regions in Melbourne\n",
    "smal_pricedf = groupby_postcode.nsmallest(10,'Price')\n",
    "smal_pricedf"
   ]
  },
  {
   "cell_type": "code",
   "execution_count": 15,
   "metadata": {
    "ExecuteTime": {
     "end_time": "2020-12-03T01:42:07.008734Z",
     "start_time": "2020-12-03T01:42:06.783784Z"
    }
   },
   "outputs": [
    {
     "data": {
      "text/plain": [
       "Text(0, 0.5, 'Avg Price')"
      ]
     },
     "execution_count": 15,
     "metadata": {},
     "output_type": "execute_result"
    },
    {
     "data": {
      "image/png": "[encoded data removed]",
      "text/plain": [
       "<Figure size 432x288 with 1 Axes>"
      ]
     },
     "metadata": {
      "needs_background": "light"
     },
     "output_type": "display_data"
    }
   ],
   "source": [
    "smal_pricedf.plot(kind='bar', x = 'Postcode', y='Price', legend=False)\n",
    "plt.title('Cheapest postcodes for 2 bedroom Townhouse or unit - Melbourne')\n",
    "plt.ylabel('Avg Price')"
   ]
  },
  {
   "cell_type": "markdown",
   "metadata": {},
   "source": [
    "The above graphic shows the least expensive areas by postcode for 2 bedroom Townhouse or Unit"
   ]
  },
  {
   "cell_type": "markdown",
   "metadata": {},
   "source": [
    "## Prediction\n",
    "Now that we have been able to gather information about the 2 bedroom townhouses or units, we can have a look at the behaviour of the monthly average price for the period between Jan-2016 and Oct-2018. First of all we need to preprocess the data appending a new column with the month and year of each record.  "
   ]
  },
  {
   "cell_type": "code",
   "execution_count": 16,
   "metadata": {
    "ExecuteTime": {
     "end_time": "2020-12-03T01:42:46.063828Z",
     "start_time": "2020-12-03T01:42:45.873976Z"
    }
   },
   "outputs": [],
   "source": [
    "# Clean the date column of the data set to get a month/year column\n",
    "new_date = []\n",
    "for year in vicrs_df.Date:\n",
    "    new_y = year[-7:]\n",
    "    new_date.append(new_y)\n",
    "\n",
    "vicrs_df['monthYearSold'] = new_date\n",
    "vicrs_df['monthYearSold'] = pd.to_datetime(vicrs_df['monthYearSold'], format='%m/%Y')"
   ]
  },
  {
   "cell_type": "code",
   "execution_count": 17,
   "metadata": {
    "ExecuteTime": {
     "end_time": "2020-12-03T01:42:53.364102Z",
     "start_time": "2020-12-03T01:42:53.113232Z"
    }
   },
   "outputs": [
    {
     "data": {
      "image/png": "[encoded data removed]",
      "text/plain": [
       "<Figure size 432x288 with 1 Axes>"
      ]
     },
     "metadata": {
      "needs_background": "light"
     },
     "output_type": "display_data"
    }
   ],
   "source": [
    "filt = (vicrs_df.Rooms == 2) & (vicrs_df.Type != 'h')\n",
    "groupby_saledate = vicrs_df[filt]\n",
    "\n",
    "date_gr = {'Price':{'avg price':'mean'}}\n",
    "groupby_saledate = groupby_saledate.groupby(['monthYearSold','Rooms']).agg(date_gr)\n",
    "groupby_saledate = groupby_saledate.reset_index()\n",
    "groupby_saledate.columns = groupby_saledate.columns.droplevel(1)\n",
    "\n",
    "groupby_saledate.plot(x = 'monthYearSold', y='Price', legend=False)\n",
    "plt.title('Average Selling Price per Month for 2 bedrooms Townhoses and units - Melbourne')\n",
    "plt.ylabel('Price')\n",
    "plt.show()\n"
   ]
  },
  {
   "cell_type": "markdown",
   "metadata": {},
   "source": [
    "In the above graph we can observe the average prices for the period described before. However, the first month seems to be very different (potential outlier), so we will perform our analysis excluding this record."
   ]
  },
  {
   "cell_type": "code",
   "execution_count": 19,
   "metadata": {
    "ExecuteTime": {
     "end_time": "2020-12-03T01:43:58.846480Z",
     "start_time": "2020-12-03T01:43:57.917313Z"
    }
   },
   "outputs": [
    {
     "data": {
      "image/png": "[encoded data removed]",
      "text/plain": [
       "<Figure size 432x288 with 1 Axes>"
      ]
     },
     "metadata": {
      "needs_background": "light"
     },
     "output_type": "display_data"
    }
   ],
   "source": [
    "from scipy.stats import linregress\n",
    "\n",
    "filt= ~((groupby_saledate['monthYearSold'] == '2016-01'))\n",
    "groupby_saledate=groupby_saledate[filt]\n",
    "groupby_saledate.plot(x = 'monthYearSold', y='Price', legend=False)\n",
    "plt.title('Average Selling Price per Month for 2 bedrooms Townhoses and units - Melbourne')\n",
    "plt.ylabel('Price')\n",
    "\n",
    "# Convert dates to ordinal number in order to be able to use that field instead in the regression as linregress() doesn't work with dates\n",
    "groupby_saledate['date_ordinal'] = pd.to_datetime(groupby_saledate['monthYearSold']).apply(lambda date: date.toordinal())\n",
    "\n",
    "slope, intercept, r_value, p_value, std_err = linregress(groupby_saledate['date_ordinal'],groupby_saledate['Price'])\n",
    "lineY_growth = [slope*xi + intercept for xi in groupby_saledate['date_ordinal']]\n",
    "plt.plot(groupby_saledate['date_ordinal'],lineY_growth,'g-', linewidth=2)\n",
    "plt.show()"
   ]
  },
  {
   "cell_type": "markdown",
   "metadata": {},
   "source": [
    "In the above graph, we can observe the behaviour of the average price for two bedroom units or townhouses in the described period. This allows us to perform a linear regression analisys in order to visualize the trend of this market in order to perform a basic linear prediction about the posible prices in 24 or 36 months as follows:"
   ]
  },
  {
   "cell_type": "code",
   "execution_count": 20,
   "metadata": {
    "ExecuteTime": {
     "end_time": "2020-12-03T01:44:48.131434Z",
     "start_time": "2020-12-03T01:44:48.122996Z"
    }
   },
   "outputs": [
    {
     "name": "stdout",
     "output_type": "stream",
     "text": [
      "The average price for 2 bedroom Townhouses and units is expected to be $692703 in 24 months and $712761 in 36 months\n"
     ]
    }
   ],
   "source": [
    "# 24 months are equal to 365*2 days so we add 730 to the last ordinal to get the 24 months value\n",
    "# access to the last date_ordinal value and add 365*2 for the 24 months prediction\n",
    "ordinal_24month = groupby_saledate['date_ordinal'][len(groupby_saledate['date_ordinal'])] + (365*2)\n",
    "ordinal_36month = groupby_saledate['date_ordinal'][len(groupby_saledate['date_ordinal'])] + (365*3)\n",
    "fcst_24 = slope*ordinal_24month+intercept\n",
    "fcst_36 = slope*ordinal_36month+intercept\n",
    "print(\"The average price for 2 bedroom Townhouses and units is expected to be $\"+str(int(fcst_24))+\" in 24 months and $\"+str(int(fcst_36))+\" in 36 months\")"
   ]
  },
  {
   "cell_type": "markdown",
   "metadata": {},
   "source": [
    "This notebook focuses on EDA, however, the behavior of the market prices doesn't seem to be linear and we would require a different approach to do better predictions in a future work."
   ]
  }
 ],
 "metadata": {
  "kernelspec": {
   "display_name": "Python 3",
   "language": "python",
   "name": "python3"
  },
  "language_info": {
   "codemirror_mode": {
    "name": "ipython",
    "version": 3
   },
   "file_extension": ".py",
   "mimetype": "text/x-python",
   "name": "python",
   "nbconvert_exporter": "python",
   "pygments_lexer": "ipython3",
   "version": "3.7.1"
  },
  "toc": {
   "base_numbering": 1,
   "nav_menu": {},
   "number_sections": true,
   "sideBar": true,
   "skip_h1_title": false,
   "title_cell": "Table of Contents",
   "title_sidebar": "Contents",
   "toc_cell": false,
   "toc_position": {},
   "toc_section_display": true,
   "toc_window_display": false
  }
 },
 "nbformat": 4,
 "nbformat_minor": 2
}
